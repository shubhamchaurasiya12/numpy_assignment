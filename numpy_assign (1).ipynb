{
 "cells": [
  {
   "cell_type": "markdown",
   "id": "5c75c8ae-73ca-41d8-8e86-1a93091dc552",
   "metadata": {},
   "source": [
    "<h3>1. Create a NumPy array 'arr' of integers from 0 to 5 and print its data type."
   ]
  },
  {
   "cell_type": "code",
   "execution_count": 3,
   "id": "ad8d5dfc-95d2-499e-abae-59405d72ffa0",
   "metadata": {},
   "outputs": [
    {
     "name": "stdout",
     "output_type": "stream",
     "text": [
      "<class 'numpy.ndarray'>\n"
     ]
    }
   ],
   "source": [
    "import numpy as np\n",
    "arr = np.array([0,1,2,3,4,5])\n",
    "print(type(arr))"
   ]
  },
  {
   "cell_type": "markdown",
   "id": "86608101-300b-46bb-b0ae-fba44667bacc",
   "metadata": {},
   "source": [
    "<h3>2. Given a NumPy array 'arr', check if its data type is float64."
   ]
  },
  {
   "cell_type": "code",
   "execution_count": 5,
   "id": "eb16c787-384f-44f0-94c1-d3eb2fbfbee2",
   "metadata": {},
   "outputs": [
    {
     "name": "stdout",
     "output_type": "stream",
     "text": [
      "Its datatype is float64\n"
     ]
    }
   ],
   "source": [
    "import numpy as np\n",
    "\n",
    "# taken an array\n",
    "arr = np.array([1.0, 2.0, 3.0])\n",
    "\n",
    "# Check if the data type is float64\n",
    "if arr.dtype == np.float64:\n",
    "    print(\"Its datatype is float64\")\n",
    "else:\n",
    "    print(\"Its data type is not float64\")\n"
   ]
  },
  {
   "cell_type": "markdown",
   "id": "d29b8eb3-9bc6-452f-8de5-bda77e24ffcb",
   "metadata": {},
   "source": [
    "<h3>3. Create a NumPy array 'arr' witha data type of complex128 containing three complex numbers."
   ]
  },
  {
   "cell_type": "code",
   "execution_count": 6,
   "id": "cbca08e6-fc3a-4ce1-93e9-df5e2133e308",
   "metadata": {},
   "outputs": [
    {
     "name": "stdout",
     "output_type": "stream",
     "text": [
      "[1.+2.j 3.+4.j 5.+6.j]\n"
     ]
    }
   ],
   "source": [
    "import numpy as np\n",
    "\n",
    "# Creating the array with complex numbers\n",
    "arr = np.array([1+2j, 3+4j, 5+6j], dtype=np.complex128)\n",
    "\n",
    "print(arr)\n"
   ]
  },
  {
   "cell_type": "markdown",
   "id": "2c1f6a51-4edb-42ca-a8d4-84afddf2f65b",
   "metadata": {},
   "source": [
    "<h3>4. Convert an existing NumPy array 'arr' of integers to float32 data type."
   ]
  },
  {
   "cell_type": "code",
   "execution_count": 7,
   "id": "f5e99d12-b4b6-45dd-906a-347021acae41",
   "metadata": {},
   "outputs": [
    {
     "name": "stdout",
     "output_type": "stream",
     "text": [
      "[1. 2. 3. 4. 5.]\n"
     ]
    }
   ],
   "source": [
    "import numpy as np\n",
    "\n",
    "# Assuming 'arr' is existing NumPy array of integers\n",
    "arr = np.array([1, 2, 3, 4, 5])\n",
    "\n",
    "# Convert 'arr' to float32\n",
    "arr_float32 = arr.astype(np.float32)\n",
    "\n",
    "print(arr_float32)"
   ]
  },
  {
   "cell_type": "markdown",
   "id": "dfd23be9-a927-4a1d-b8da-d77fb623b1a9",
   "metadata": {},
   "source": [
    "<h3>5. Given a NumPy array 'arr' with float64 data type, convert it to float32 to reduce decimal precision."
   ]
  },
  {
   "cell_type": "code",
   "execution_count": 8,
   "id": "cc7abfe8-c8ae-42cf-9253-09e156542b0b",
   "metadata": {},
   "outputs": [
    {
     "name": "stdout",
     "output_type": "stream",
     "text": [
      "[1.1234568 2.9876542 3.456789 ]\n"
     ]
    }
   ],
   "source": [
    "import numpy as np\n",
    "# Assuming 'arr' is your existing NumPy array with float64 data type\n",
    "arr = np.array([1.123456789, 2.987654321, 3.456789123], dtype=np.float64)\n",
    "\n",
    "# Convert 'arr' to float32\n",
    "arr_float32 = arr.astype(np.float32)\n",
    "\n",
    "print(arr_float32)"
   ]
  },
  {
   "cell_type": "markdown",
   "id": "7a02df55-3cc5-450e-8577-810179a9809c",
   "metadata": {},
   "source": [
    "<h3>6. Write a function array_attributes that takes a NumPy array as input and returns its shape, size, and data."
   ]
  },
  {
   "cell_type": "code",
   "execution_count": 12,
   "id": "2dbf17e2-b9b7-4133-b6f0-6c2150df05ec",
   "metadata": {},
   "outputs": [
    {
     "name": "stdin",
     "output_type": "stream",
     "text": [
      "Enter the elements of the array separated by spaces:  11 22 33\n"
     ]
    },
    {
     "name": "stdout",
     "output_type": "stream",
     "text": [
      "Shape: (3,), Size: 3, Data type: float64\n"
     ]
    }
   ],
   "source": [
    "import numpy as np\n",
    "\n",
    "def array_attributes():\n",
    "    # Prompt the user to input the elements of the array\n",
    "    user_input = input(\"Enter the elements of the array separated by spaces: \")\n",
    "    \n",
    "    # Convert the input string to a list of floats\n",
    "    arr_list = list(map(float, user_input.split()))\n",
    "    \n",
    "    # Convert the list to a NumPy array\n",
    "    arr = np.array(arr_list)\n",
    "    \n",
    "    # Get the shape, size, and data type of the array\n",
    "    shape = arr.shape\n",
    "    size = arr.size\n",
    "    dtype = arr.dtype\n",
    "    \n",
    "    return shape, size, dtype\n",
    "\n",
    "# Example usage\n",
    "shape, size, dtype = array_attributes()\n",
    "print(f\"Shape: {shape}, Size: {size}, Data type: {dtype}\")\n"
   ]
  },
  {
   "cell_type": "markdown",
   "id": "387c9d6a-d964-4bf2-93f6-292732239a38",
   "metadata": {},
   "source": [
    "<h3>7. Create a function array_dimension that takes a NumPy array as input and returns its dimensionality."
   ]
  },
  {
   "cell_type": "code",
   "execution_count": 25,
   "id": "aced5b9e-06a0-41b4-a46e-65e5436059fe",
   "metadata": {},
   "outputs": [
    {
     "name": "stdout",
     "output_type": "stream",
     "text": [
      "Domension: 2\n"
     ]
    }
   ],
   "source": [
    "import numpy as np\n",
    "def array_dimension():\n",
    "    arr = np.array([[1,2,3,4,\n",
    "                    5,4,6,7]])\n",
    "    \n",
    "    dimension = arr.ndim\n",
    "    \n",
    "    return dimension\n",
    "\n",
    "dimension = array_dimension()\n",
    "print(\"Domension:\",dimension)"
   ]
  },
  {
   "cell_type": "markdown",
   "id": "434264b3-b548-4388-a1c6-497dda59cf7a",
   "metadata": {},
   "source": [
    "<h3>8. Design a function item_size_info that takes a NumPy array as input and returns the item size and the total size in bytes.<h3>"
   ]
  },
  {
   "cell_type": "code",
   "execution_count": 26,
   "id": "06fe4ed6-1094-4a29-975a-665004fa7a2b",
   "metadata": {},
   "outputs": [
    {
     "name": "stdout",
     "output_type": "stream",
     "text": [
      "Item size: 8 bytes, Total size: 40 bytes\n"
     ]
    }
   ],
   "source": [
    "import numpy as np\n",
    "\n",
    "def item_size_info(arr):\n",
    "    item_size = arr.itemsize\n",
    "    total_size = arr.nbytes\n",
    "    return item_size, total_size\n",
    "\n",
    "# Example usage\n",
    "arr = np.array([1.0, 2.0, 3.0, 4.0, 5.0], dtype=np.float64)\n",
    "item_size, total_size = item_size_info(arr)\n",
    "print(f\"Item size: {item_size} bytes, Total size: {total_size} bytes\")\n"
   ]
  },
  {
   "cell_type": "markdown",
   "id": "3a03f7e5-e602-4050-a718-79b3761f145d",
   "metadata": {},
   "source": [
    "<h3>9. Create a function array_strides that takes a NumPy array as input and returns the strides of the array.<h3>"
   ]
  },
  {
   "cell_type": "code",
   "execution_count": 27,
   "id": "84f7204b-c20f-4052-98f9-286af6199634",
   "metadata": {},
   "outputs": [
    {
     "name": "stdout",
     "output_type": "stream",
     "text": [
      "Strides: (24, 8)\n"
     ]
    }
   ],
   "source": [
    "import numpy as np\n",
    "\n",
    "def array_strides(arr):\n",
    "    return arr.strides\n",
    "\n",
    "# Example usage\n",
    "arr = np.array([[1, 2, 3], [4, 5, 6], [7, 8, 9]])\n",
    "strides = array_strides(arr)\n",
    "print(f\"Strides: {strides}\")\n"
   ]
  },
  {
   "cell_type": "markdown",
   "id": "8de85643-df0f-4410-89ff-1ec2aa2e953f",
   "metadata": {},
   "source": [
    "<h3>10. Design a function shape_stride_relationship that takes a NumPy array as input and returns the shape and strides of the array.<h3>"
   ]
  },
  {
   "cell_type": "code",
   "execution_count": 31,
   "id": "b8557dcb-bd0d-4921-a265-65924df9d187",
   "metadata": {},
   "outputs": [
    {
     "name": "stdout",
     "output_type": "stream",
     "text": [
      "Strides: (8,) , shape: (7,)\n"
     ]
    }
   ],
   "source": [
    "import numpy as np \n",
    "def shape_stride_relationship():\n",
    "    arr = np.array([1,2,3,4,5,6,7])\n",
    "    stride = arr.strides\n",
    "    shape = arr.shape\n",
    "    return stride, shape\n",
    "stride, shape = shape_stride_relationship()\n",
    "print(f\"Strides: {stride} , shape: {shape}\")"
   ]
  },
  {
   "cell_type": "markdown",
   "id": "324c2bf6-24fe-4500-b969-82d96c48a492",
   "metadata": {},
   "source": [
    "<h3>11. Create a function `create_zeros_array` that takes an integer `n` as input and returns a NumPy array of zeros with `n` elements.<h3>"
   ]
  },
  {
   "cell_type": "code",
   "execution_count": 39,
   "id": "bae244f9-5407-4382-a9f3-effa9b2d6a52",
   "metadata": {},
   "outputs": [
    {
     "name": "stdout",
     "output_type": "stream",
     "text": [
      "[0. 0. 0. 0. 0. 0.]\n"
     ]
    }
   ],
   "source": [
    "import numpy as np\n",
    "def create_zeros_array(n):\n",
    "    return np.zeros(n)\n",
    "n = 6\n",
    "zero_array = create_zeros_array(n)\n",
    "print(zero_array)"
   ]
  },
  {
   "cell_type": "markdown",
   "id": "48f0824a-56d4-4a7d-9af3-c425a2fae5e5",
   "metadata": {},
   "source": [
    "<h3>12. Write a function `create_ones_matrix` that takes integers `rows` and `cols` as inputs and generates a 2D NumPy array filled with ones of size `rows x cols`.<h3>"
   ]
  },
  {
   "cell_type": "code",
   "execution_count": 47,
   "id": "1d782473-882d-47bf-af20-c929938e069e",
   "metadata": {},
   "outputs": [
    {
     "name": "stdout",
     "output_type": "stream",
     "text": [
      "[[1. 1. 1. 1.]\n",
      " [1. 1. 1. 1.]\n",
      " [1. 1. 1. 1.]]\n"
     ]
    }
   ],
   "source": [
    "import numpy as np\n",
    "\n",
    "def create_ones_matrix(rows, cols):\n",
    "    return np.ones((rows, cols))\n",
    "\n",
    "# Example usage\n",
    "rows = 3\n",
    "cols = 4\n",
    "ones_matrix = create_ones_matrix(rows, cols)\n",
    "print(ones_matrix)\n"
   ]
  },
  {
   "cell_type": "markdown",
   "id": "fe0b75d1-a52e-4e50-971d-38723941ea7e",
   "metadata": {},
   "source": [
    "<h3>13. Write a function `generate_range_array` that takes three integers start, stop, and step as arguments and creates a NumPy array with a range starting from `start`, ending at stop (exclusive), and with the specified `step`.<h3>"
   ]
  },
  {
   "cell_type": "code",
   "execution_count": 49,
   "id": "2e5c54cd-46f6-4ec5-a883-0b8c0893f581",
   "metadata": {},
   "outputs": [
    {
     "name": "stdout",
     "output_type": "stream",
     "text": [
      "[0 2 4 6 8]\n"
     ]
    }
   ],
   "source": [
    "import numpy as np\n",
    "\n",
    "def generate_range_array(start, stop, step):\n",
    "    return np.arange(start, stop, step)\n",
    "start = 0\n",
    "stop = 10\n",
    "step = 2\n",
    "range_array = generate_range_array(start, stop, step)\n",
    "print(range_array)"
   ]
  },
  {
   "cell_type": "markdown",
   "id": "fc43b5c0-ea72-43ce-9fa6-74165aeb9808",
   "metadata": {},
   "source": [
    "<h3>14. Design a function `generate_linear_space` that takes two floats `start`, `stop`, and an integer `num` as arguments and generates a NumPy array with num equally spaced values between `start` and `stop` (inclusive).<h3>"
   ]
  },
  {
   "cell_type": "code",
   "execution_count": 54,
   "id": "678f3485-b5d5-4472-b262-574b72681365",
   "metadata": {},
   "outputs": [
    {
     "name": "stdout",
     "output_type": "stream",
     "text": [
      "[ 0.          3.33333333  6.66666667 10.        ]\n"
     ]
    }
   ],
   "source": [
    "import numpy as np\n",
    "\n",
    "def generate_linear_space(start, stop, num):\n",
    "    return np.linspace(start, stop, num)\n",
    "start = 0.0\n",
    "stop = 10.0\n",
    "num = 4\n",
    "linespace_array = generate_linear_space(start, stop, num)\n",
    "print(linespace_array)"
   ]
  },
  {
   "cell_type": "markdown",
   "id": "a1444552-c4bb-4319-b497-2dbd15a9d8b2",
   "metadata": {},
   "source": [
    "<h3>15. Create a function `create_identity_matrix` that takes an integer `n` as input and generates a square identity matrix of size `n x n` using `numpy.eye`.<h3>"
   ]
  },
  {
   "cell_type": "code",
   "execution_count": 55,
   "id": "fe7cce03-27c6-4fd1-9cea-8ca9040513d2",
   "metadata": {},
   "outputs": [
    {
     "name": "stdout",
     "output_type": "stream",
     "text": [
      "[[1. 0. 0.]\n",
      " [0. 1. 0.]\n",
      " [0. 0. 1.]]\n"
     ]
    }
   ],
   "source": [
    "import numpy\n",
    "def create_identity_matrix(n):\n",
    "    return numpy.eye(n)\n",
    "n = 3\n",
    "identity_matrix = create_identity_matrix(n)\n",
    "print(identity_matrix)"
   ]
  },
  {
   "cell_type": "markdown",
   "id": "1ea5b649-c276-48ab-a71e-f13dc6c1c9cb",
   "metadata": {},
   "source": [
    "<h3>16. Write a function that takes a Python list and converts it into a NumPy array.<h3>"
   ]
  },
  {
   "cell_type": "code",
   "execution_count": 56,
   "id": "bd189f31-bf0b-4c87-acbd-f4a53b09dab0",
   "metadata": {},
   "outputs": [
    {
     "name": "stdout",
     "output_type": "stream",
     "text": [
      "[1 2 3 4 5 6]\n"
     ]
    }
   ],
   "source": [
    "import numpy as np\n",
    "def list_to_numpy_array(input_list):\n",
    "    return np.array(input_list)\n",
    "\n",
    "input_list = [1, 2, 3, 4, 5, 6]\n",
    "numpy_array = list_to_numpy_array(input_list)\n",
    "print(numpy_array)"
   ]
  },
  {
   "cell_type": "markdown",
   "id": "be3c3224-595c-447e-bd09-c8c6ba28b581",
   "metadata": {},
   "source": [
    "<h3>17. Create a NumPy array and demonstrate the use of `numpy.view` to create a new array object with the same data.<h3>"
   ]
  },
  {
   "cell_type": "code",
   "execution_count": 57,
   "id": "48d7771d-21c0-412c-8b27-cf8fce383aa0",
   "metadata": {},
   "outputs": [
    {
     "name": "stdout",
     "output_type": "stream",
     "text": [
      "Original array: [1 2 3 4 5]\n",
      "View array: [1 2 3 4 5]\n",
      "Modified original array: [10  2  3  4  5]\n",
      "Modified view array: [10  2  3  4  5]\n"
     ]
    }
   ],
   "source": [
    "import numpy as np\n",
    "\n",
    "# Create a NumPy array\n",
    "original_array = np.array([1, 2, 3, 4, 5], dtype=np.int32)\n",
    "\n",
    "# Create a view of the original array\n",
    "view_array = original_array.view()\n",
    "\n",
    "# Print both arrays to show they share the same data\n",
    "print(\"Original array:\", original_array)\n",
    "print(\"View array:\", view_array)\n",
    "\n",
    "# Modify the view array\n",
    "view_array[0] = 10\n",
    "\n",
    "# Print both arrays again to show the change is reflected in both\n",
    "print(\"Modified original array:\", original_array)\n",
    "print(\"Modified view array:\", view_array)\n"
   ]
  },
  {
   "cell_type": "markdown",
   "id": "9f90bbda-2671-4822-bb8d-003638369f02",
   "metadata": {},
   "source": [
    "<h3>18. Write a function that takes two NumPy arrays and concatenates them along a specified axis.<h3>"
   ]
  },
  {
   "cell_type": "code",
   "execution_count": 58,
   "id": "a51d0583-ec79-4b30-9ed9-e4378b07d98b",
   "metadata": {},
   "outputs": [
    {
     "name": "stdout",
     "output_type": "stream",
     "text": [
      "Concatenated along axis 0:\n",
      " [[1 2]\n",
      " [3 4]\n",
      " [5 6]\n",
      " [7 8]]\n",
      "Concatenated along axis 1:\n",
      " [[1 2 5 6]\n",
      " [3 4 7 8]]\n"
     ]
    }
   ],
   "source": [
    "import numpy as np\n",
    "\n",
    "def concatenate_arrays(arr1, arr2, axis=0):\n",
    "    return np.concatenate((arr1, arr2), axis=axis)\n",
    "\n",
    "# Example usage\n",
    "arr1 = np.array([[1, 2], [3, 4]])\n",
    "arr2 = np.array([[5, 6], [7, 8]])\n",
    "\n",
    "# Concatenate along axis 0 (rows)\n",
    "concatenated_array_0 = concatenate_arrays(arr1, arr2, axis=0)\n",
    "print(\"Concatenated along axis 0:\\n\", concatenated_array_0)\n",
    "\n",
    "# Concatenate along axis 1 (columns)\n",
    "concatenated_array_1 = concatenate_arrays(arr1, arr2, axis=1)\n",
    "print(\"Concatenated along axis 1:\\n\", concatenated_array_1)\n"
   ]
  },
  {
   "cell_type": "markdown",
   "id": "d27bb06d-40bf-4f39-bc88-dd04d0892983",
   "metadata": {},
   "source": [
    "<h3>19. Create two NumPy arrays with different shapes and concatenate them horizontally using `numpy.concatenate`."
   ]
  },
  {
   "cell_type": "code",
   "execution_count": 63,
   "id": "f3df06f3-0d6f-43a2-a18a-9a7fb060e297",
   "metadata": {},
   "outputs": [
    {
     "name": "stdout",
     "output_type": "stream",
     "text": [
      "Array 1:\n",
      " [[1 2 3]\n",
      " [4 5 6]]\n",
      "Array 2:\n",
      " [[5 4]\n",
      " [6 4]]\n",
      "concatenate array:\n",
      " [[1 2 3 5 4]\n",
      " [4 5 6 6 4]]\n"
     ]
    }
   ],
   "source": [
    "import numpy as np\n",
    "arr1 = np.array([[1,2,3],[4,5,6]])\n",
    "arr2 = np.array([[5,4],[6,4]])\n",
    "\n",
    "concatenate_array = np.concatenate((arr1,arr2), axis=1)\n",
    "print(\"Array 1:\\n\", arr1)\n",
    "print(\"Array 2:\\n\",arr2)\n",
    "print(\"concatenate array:\\n\",concatenate_array)"
   ]
  },
  {
   "cell_type": "markdown",
   "id": "0eb6cd0f-f52a-4052-a1f8-ed0a184ba8f9",
   "metadata": {},
   "source": [
    "<h3>20. Write a function that vertically stacks multiple NumPy arrays given as a list."
   ]
  },
  {
   "cell_type": "code",
   "execution_count": 64,
   "id": "fc847075-6a79-447e-85b0-a964568bcc91",
   "metadata": {},
   "outputs": [
    {
     "name": "stdout",
     "output_type": "stream",
     "text": [
      "Stacked array:\n",
      " [[1 2 3]\n",
      " [4 5 6]\n",
      " [7 8 9]]\n"
     ]
    }
   ],
   "source": [
    "import numpy as np\n",
    "\n",
    "def vertical_stack_arrays(arr_list):\n",
    "    return np.vstack(arr_list)\n",
    "\n",
    "# Example usage\n",
    "arr1 = np.array([1, 2, 3])\n",
    "arr2 = np.array([4, 5, 6])\n",
    "arr3 = np.array([7, 8, 9])\n",
    "\n",
    "# List of arrays to stack\n",
    "arrays_to_stack = [arr1, arr2, arr3]\n",
    "\n",
    "# Vertically stack the arrays\n",
    "stacked_array = vertical_stack_arrays(arrays_to_stack)\n",
    "print(\"Stacked array:\\n\", stacked_array)"
   ]
  },
  {
   "cell_type": "markdown",
   "id": "8eaf2dbf-32de-4678-af03-96b7c65698a9",
   "metadata": {},
   "source": [
    "<h3>21. Write a Python function using NumPy to create an array of integers within a specified range (inclusive) with a given step size."
   ]
  },
  {
   "cell_type": "code",
   "execution_count": 65,
   "id": "3aacbabb-9856-47ae-a238-0fa5217bb7db",
   "metadata": {},
   "outputs": [
    {
     "name": "stdout",
     "output_type": "stream",
     "text": [
      "[ 0  2  4  6  8 10]\n"
     ]
    }
   ],
   "source": [
    "import numpy as np\n",
    "\n",
    "def create_range_array(start, stop, step):\n",
    "    return np.arange(start, stop + 1, step)\n",
    "\n",
    "# Example usage\n",
    "start = 0\n",
    "stop = 10\n",
    "step = 2\n",
    "range_array = create_range_array(start, stop, step)\n",
    "print(range_array)\n"
   ]
  },
  {
   "cell_type": "markdown",
   "id": "d17e0917-27c4-450d-b28c-12b130e98732",
   "metadata": {},
   "source": [
    "<h3>22. Write a Python function using NumPy to generate an array of 10 equally spaced values between 0 and 1 (inclusive)."
   ]
  },
  {
   "cell_type": "code",
   "execution_count": 66,
   "id": "e4b0e5e8-ae40-44c0-84a6-ca940e707ce5",
   "metadata": {},
   "outputs": [
    {
     "name": "stdout",
     "output_type": "stream",
     "text": [
      "[0.         0.11111111 0.22222222 0.33333333 0.44444444 0.55555556\n",
      " 0.66666667 0.77777778 0.88888889 1.        ]\n"
     ]
    }
   ],
   "source": [
    "import numpy as np\n",
    "def generate_equally_spaced_values():\n",
    "    return np.linspace(0, 1, 10)\n",
    "equally_space_value = generate_equally_spaced_values()\n",
    "print(equally_space_value)"
   ]
  },
  {
   "cell_type": "markdown",
   "id": "e7e1f3de-15c9-4b4a-ab1a-5111805339d2",
   "metadata": {},
   "source": [
    "<h3>23. Write a Python function using NumPy to create an array of 5 logarithmically spaced values between 1 and 1000 (inclusive)."
   ]
  },
  {
   "cell_type": "code",
   "execution_count": 67,
   "id": "bfe032ac-88ec-4630-8414-e9703b2ff96a",
   "metadata": {},
   "outputs": [
    {
     "name": "stdout",
     "output_type": "stream",
     "text": [
      "[   1.            5.62341325   31.6227766   177.827941   1000.        ]\n"
     ]
    }
   ],
   "source": [
    "import numpy as np\n",
    "def logarithmically_spaced_values():\n",
    "    return np.logspace(0, 3, num=5)\n",
    "\n",
    "logarithmically_spaced_array = logarithmically_spaced_values()\n",
    "print(logarithmically_spaced_array)"
   ]
  },
  {
   "cell_type": "markdown",
   "id": "3d172373-3aeb-43f6-bf51-08491ccd1b7e",
   "metadata": {},
   "source": [
    "<h3>24. Create a Pandas DataFrame using a NumPy array that contains 5 rows and 3 columns, where the values are random integers between 1 and 100."
   ]
  },
  {
   "cell_type": "code",
   "execution_count": 1,
   "id": "46c177a1-46ef-4fcb-9034-605ca473e653",
   "metadata": {},
   "outputs": [
    {
     "name": "stdout",
     "output_type": "stream",
     "text": [
      "   Column1  Column2  Column3\n",
      "0       90       41       72\n",
      "1       91       46       98\n",
      "2       83       63        9\n",
      "3       32       79        5\n",
      "4       18       82        7\n"
     ]
    }
   ],
   "source": [
    "import numpy as np\n",
    "import pandas as pd\n",
    "\n",
    "# Create a NumPy array with random integers between 1 and 100\n",
    "data = np.random.randint(1, 101, size=(5, 3))\n",
    "\n",
    "# Create a Pandas DataFrame from the NumPy array\n",
    "df = pd.DataFrame(data, columns=['Column1', 'Column2', 'Column3'])\n",
    "\n",
    "# Display the DataFrame\n",
    "print(df)\n"
   ]
  },
  {
   "cell_type": "markdown",
   "id": "8e60e74f-876b-4310-b24e-1ad2c81f7d1d",
   "metadata": {},
   "source": [
    "<h3>25. Write a function that takes a Pandas DataFrame and replaces all negative values in a specific column with zeros. Use NumPy operations within the Pandas DataFrame."
   ]
  },
  {
   "cell_type": "code",
   "execution_count": 8,
   "id": "fb321cc5-d261-4b58-a8d7-3fc971153467",
   "metadata": {},
   "outputs": [
    {
     "data": {
      "text/html": [
       "<div>\n",
       "<style scoped>\n",
       "    .dataframe tbody tr th:only-of-type {\n",
       "        vertical-align: middle;\n",
       "    }\n",
       "\n",
       "    .dataframe tbody tr th {\n",
       "        vertical-align: top;\n",
       "    }\n",
       "\n",
       "    .dataframe thead th {\n",
       "        text-align: right;\n",
       "    }\n",
       "</style>\n",
       "<table border=\"1\" class=\"dataframe\">\n",
       "  <thead>\n",
       "    <tr style=\"text-align: right;\">\n",
       "      <th></th>\n",
       "      <th>a</th>\n",
       "      <th>b</th>\n",
       "    </tr>\n",
       "  </thead>\n",
       "  <tbody>\n",
       "    <tr>\n",
       "      <th>0</th>\n",
       "      <td>6</td>\n",
       "      <td>0</td>\n",
       "    </tr>\n",
       "    <tr>\n",
       "      <th>1</th>\n",
       "      <td>0</td>\n",
       "      <td>5</td>\n",
       "    </tr>\n",
       "    <tr>\n",
       "      <th>2</th>\n",
       "      <td>5</td>\n",
       "      <td>7</td>\n",
       "    </tr>\n",
       "    <tr>\n",
       "      <th>3</th>\n",
       "      <td>0</td>\n",
       "      <td>0</td>\n",
       "    </tr>\n",
       "  </tbody>\n",
       "</table>\n",
       "</div>"
      ],
      "text/plain": [
       "   a  b\n",
       "0  6  0\n",
       "1  0  5\n",
       "2  5  7\n",
       "3  0  0"
      ]
     },
     "execution_count": 8,
     "metadata": {},
     "output_type": "execute_result"
    }
   ],
   "source": [
    "import pandas as pd\n",
    "# creating data frame\n",
    "df = pd.DataFrame({'a':[6,-3,5,-4], 'b':[-3,5,7,-2]})\n",
    "# replace negative values with zero\n",
    "df[ df<0 ] = 0\n",
    "df"
   ]
  },
  {
   "cell_type": "markdown",
   "id": "0a18ffba-b0fe-4110-a5d3-74b3c3ea14a5",
   "metadata": {},
   "source": [
    "<h3>26. Access the 3rd element from the given NumPy array."
   ]
  },
  {
   "cell_type": "code",
   "execution_count": 68,
   "id": "6e734ba5-2f1a-413c-8bb5-b6a7ec45d92b",
   "metadata": {},
   "outputs": [
    {
     "data": {
      "text/plain": [
       "30"
      ]
     },
     "execution_count": 68,
     "metadata": {},
     "output_type": "execute_result"
    }
   ],
   "source": [
    "import numpy as np\n",
    "arr = np.array([10, 20, 30, 40, 50])\n",
    "arr[2]"
   ]
  },
  {
   "cell_type": "markdown",
   "id": "2450a641-6270-46ba-8d2d-acb56942517e",
   "metadata": {},
   "source": [
    "<h3>27. Retrieve the element at index (1, 2) from the 2D NumPy array."
   ]
  },
  {
   "cell_type": "code",
   "execution_count": 77,
   "id": "39a84817-e86c-4104-b411-8dd2341faf7a",
   "metadata": {},
   "outputs": [
    {
     "name": "stdout",
     "output_type": "stream",
     "text": [
      "Element at index (1, 2): 60\n"
     ]
    }
   ],
   "source": [
    "import numpy as np\n",
    "\n",
    "# Create a 2D NumPy array\n",
    "arr_2d = np.array([[10, 20, 30],\n",
    "                [40, 50, 60],\n",
    "                [70, 80, 90]])\n",
    "\n",
    "# Retrieve the element at index (1, 2)\n",
    "element = arr_2d[1, 2]\n",
    "\n",
    "print(f\"Element at index (1, 2): {element}\")\n"
   ]
  },
  {
   "cell_type": "markdown",
   "id": "d9c9793a-2c23-43a1-9143-dc87fe22b527",
   "metadata": {},
   "source": [
    "<h3>28. Using boolean indexing, extract elements greater than 5 from the given NumPy array."
   ]
  },
  {
   "cell_type": "code",
   "execution_count": 74,
   "id": "6a1192c4-aae8-4dfc-b007-13a0035dcad1",
   "metadata": {},
   "outputs": [
    {
     "name": "stdout",
     "output_type": "stream",
     "text": [
      "[ 8 10  7]\n"
     ]
    }
   ],
   "source": [
    "import numpy as np\n",
    "arr = np.array([3, 8, 2, 10, 5, 7])\n",
    "# Use boolean indexing to extract elements greater than 5\n",
    "greater_than_five = arr[arr > 5]\n",
    "\n",
    "print(greater_than_five)"
   ]
  },
  {
   "cell_type": "markdown",
   "id": "d79f705f-291a-457e-85a7-8f152e0f77c2",
   "metadata": {},
   "source": [
    "<h3>29. Perform basic slicing to extract elements from index 2 to 5 (inclusive) from the given NumPy array."
   ]
  },
  {
   "cell_type": "code",
   "execution_count": 75,
   "id": "a437f4da-099c-4075-865d-6f80b9bc361f",
   "metadata": {},
   "outputs": [
    {
     "name": "stdout",
     "output_type": "stream",
     "text": [
      "[3 4 5 6]\n"
     ]
    }
   ],
   "source": [
    "import numpy as np\n",
    "arr = np.array([1, 2, 3, 4, 5, 6, 7, 8, 9])\n",
    "\n",
    "# Extract elements from index 2 to 5 (inclusive)\n",
    "sliced_array = arr[2:6]\n",
    "\n",
    "print(sliced_array)"
   ]
  },
  {
   "cell_type": "markdown",
   "id": "f1fb6288-1576-4728-8853-e0a0c4a8cdc0",
   "metadata": {},
   "source": [
    "<h3>30. Slice the 2D NumPy array to extract the sub-array `[[2, 3], [5, 6]]` from the given array."
   ]
  },
  {
   "cell_type": "code",
   "execution_count": 78,
   "id": "37d0790a-1267-484f-aeb9-5db4320e2c30",
   "metadata": {},
   "outputs": [
    {
     "name": "stdout",
     "output_type": "stream",
     "text": [
      "[[2 3]\n",
      " [5 6]]\n"
     ]
    }
   ],
   "source": [
    "import numpy as np\n",
    "arr_2d = np.array([[1, 2, 3], [4, 5, 6], [7, 8, 9]])\n",
    "\n",
    "# Extract the sub-array [[2, 3], [5, 6]]\n",
    "sub_array = arr_2d[0:2, 1:3]\n",
    "\n",
    "print(sub_array)"
   ]
  },
  {
   "cell_type": "markdown",
   "id": "88e67d84-35a4-4753-9208-313d05676962",
   "metadata": {},
   "source": [
    "<h3>31.Write a NumPy function to extract elements in specific order from a given 2D array based on indices provided in another array."
   ]
  },
  {
   "cell_type": "code",
   "execution_count": 10,
   "id": "dffa6696-128b-498a-9619-1701946e8d77",
   "metadata": {},
   "outputs": [
    {
     "name": "stdout",
     "output_type": "stream",
     "text": [
      "Extracted elements:\n",
      "[20 90 40]\n"
     ]
    }
   ],
   "source": [
    "import numpy as np\n",
    "\n",
    "# Given 2D array\n",
    "arr = np.array([[10, 20, 30],\n",
    "                [40, 50, 60],\n",
    "                [70, 80, 90]])\n",
    "\n",
    "# Indices to extract elements from arr\n",
    "indices = np.array([[0, 1],  # arr[0, 1] -> 20\n",
    "                    [2, 2],  # arr[2, 2] -> 90\n",
    "                    [1, 0]]) # arr[1, 0] -> 40\n",
    "\n",
    "# Extract elements using the indices\n",
    "extracted_elements = arr[indices[:, 0], indices[:, 1]]\n",
    "\n",
    "# Display the extracted elements\n",
    "print(\"Extracted elements:\")\n",
    "print(extracted_elements)\n"
   ]
  },
  {
   "cell_type": "markdown",
   "id": "c3351f22-bbb8-4740-a0e7-5f2d576d142d",
   "metadata": {},
   "source": [
    "<h3>32. Create a NumPy function that filters elements greater than a threshold from a given 1D array using \n",
    "boolean indexing."
   ]
  },
  {
   "cell_type": "code",
   "execution_count": 116,
   "id": "a1e93fa4-3ca0-45ee-8f11-678fd3d16e99",
   "metadata": {},
   "outputs": [
    {
     "name": "stdout",
     "output_type": "stream",
     "text": [
      "Original array:\n",
      "[10 25 35 45 50 60]\n",
      "\n",
      "Filtered elements greater than threshold:\n",
      "[35 45 50 60]\n"
     ]
    }
   ],
   "source": [
    "import numpy as np\n",
    "\n",
    "def filter_greater_than(arr, threshold):\n",
    "    # Ensure arr is a NumPy array\n",
    "    arr = np.asarray(arr)\n",
    "    \n",
    "    # Apply boolean indexing to filter elements\n",
    "    return arr[arr > threshold]\n",
    "\n",
    "# Create a 1D array\n",
    "arr = np.array([10, 25, 35, 45, 50, 60])\n",
    "\n",
    "# Define the threshold\n",
    "threshold = 30\n",
    "\n",
    "# Filter elements greater than the threshold\n",
    "filtered_elements = filter_greater_than(arr, threshold)\n",
    "\n",
    "print(\"Original array:\")\n",
    "print(arr)\n",
    "\n",
    "print(\"\\nFiltered elements greater than threshold:\")\n",
    "print(filtered_elements)\n"
   ]
  },
  {
   "cell_type": "markdown",
   "id": "02b4d031-2557-4845-87bc-3fd411bd37a9",
   "metadata": {},
   "source": [
    "<h3> 33. Develop a NumPy function that extracts specific elements from a 3D array using indices provided in three \n",
    "separate arrays for each dimension."
   ]
  },
  {
   "cell_type": "code",
   "execution_count": 115,
   "id": "9b9594c8-1f5f-47a2-a222-6dc6fdcf9df4",
   "metadata": {},
   "outputs": [
    {
     "name": "stdout",
     "output_type": "stream",
     "text": [
      "Original array:\n",
      "[[[ 1  2  3  4  5]\n",
      "  [ 6  7  8  9 10]\n",
      "  [11 12 13 14 15]\n",
      "  [16 17 18 19 20]]\n",
      "\n",
      " [[21 22 23 24 25]\n",
      "  [26 27 28 29 30]\n",
      "  [31 32 33 34 35]\n",
      "  [36 37 38 39 40]]\n",
      "\n",
      " [[41 42 43 44 45]\n",
      "  [46 47 48 49 50]\n",
      "  [51 52 53 54 55]\n",
      "  [56 57 58 59 60]]]\n",
      "\n",
      "Extracted elements:\n",
      "[ 5 29 53]\n"
     ]
    }
   ],
   "source": [
    "import numpy as np\n",
    "\n",
    "def extract_elements_3d(arr, row_indices, col_indices, depth_indices):\n",
    "   # Ensure indices are NumPy arrays\n",
    "    row_indices = np.asarray(row_indices)\n",
    "    col_indices = np.asarray(col_indices)\n",
    "    depth_indices = np.asarray(depth_indices)\n",
    "    \n",
    "    # Use advanced indexing to extract elements\n",
    "    return arr[depth_indices, row_indices, col_indices]\n",
    "\n",
    "# Create a 3D array with shape (3, 4, 5)\n",
    "arr = np.array([[[ 1,  2,  3,  4,  5],\n",
    "                 [ 6,  7,  8,  9, 10],\n",
    "                 [11, 12, 13, 14, 15],\n",
    "                 [16, 17, 18, 19, 20]],\n",
    "                \n",
    "                [[21, 22, 23, 24, 25],\n",
    "                 [26, 27, 28, 29, 30],\n",
    "                 [31, 32, 33, 34, 35],\n",
    "                 [36, 37, 38, 39, 40]],\n",
    "                \n",
    "                [[41, 42, 43, 44, 45],\n",
    "                 [46, 47, 48, 49, 50],\n",
    "                 [51, 52, 53, 54, 55],\n",
    "                 [56, 57, 58, 59, 60]]])\n",
    "\n",
    "# Indices for each dimension\n",
    "depth_indices = np.array([0, 1, 2])\n",
    "row_indices = np.array([0, 1, 2])\n",
    "col_indices = np.array([4, 3, 2])\n",
    "\n",
    "# Extract elements\n",
    "extracted_elements = extract_elements_3d(arr, row_indices, col_indices, depth_indices)\n",
    "\n",
    "print(\"Original array:\")\n",
    "print(arr)\n",
    "\n",
    "print(\"\\nExtracted elements:\")\n",
    "print(extracted_elements)\n"
   ]
  },
  {
   "cell_type": "markdown",
   "id": "f807dbc0-f4d8-425c-b0bd-7d7bf9b734bf",
   "metadata": {},
   "source": [
    "<h3> 34. Write a NumPy function that returns elements from an array where both two conditions are satisfied \n",
    "using boolean indexing."
   ]
  },
  {
   "cell_type": "code",
   "execution_count": 114,
   "id": "853fe566-5c80-4efa-a246-6ceacf6777c9",
   "metadata": {},
   "outputs": [
    {
     "name": "stdout",
     "output_type": "stream",
     "text": [
      "Original array:\n",
      "[10 20 30 40 50 60 70 80 90]\n",
      "\n",
      "Filtered elements where both conditions are satisfied:\n",
      "[30 40 50 60]\n"
     ]
    }
   ],
   "source": [
    "import numpy as np\n",
    "\n",
    "def filter_elements(arr, condition1, condition2):\n",
    "   # Ensure conditions are boolean arrays\n",
    "    condition1 = np.asarray(condition1, dtype=bool)\n",
    "    condition2 = np.asarray(condition2, dtype=bool)\n",
    "    \n",
    "    # Combine conditions using logical AND\n",
    "    combined_condition = condition1 & condition2\n",
    "    \n",
    "    # Apply combined condition to the array\n",
    "    return arr[combined_condition]\n",
    "\n",
    "# Create an array\n",
    "arr = np.array([10, 20, 30, 40, 50, 60, 70, 80, 90])\n",
    "\n",
    "# Define two conditions\n",
    "condition1 = (arr > 20)   # Elements greater than 20\n",
    "condition2 = (arr < 70)   # Elements less than 70\n",
    "\n",
    "# Filter elements where both conditions are satisfied\n",
    "filtered_elements = filter_elements(arr, condition1, condition2)\n",
    "\n",
    "print(\"Original array:\")\n",
    "print(arr)\n",
    "\n",
    "print(\"\\nFiltered elements where both conditions are satisfied:\")\n",
    "print(filtered_elements)"
   ]
  },
  {
   "cell_type": "markdown",
   "id": "718f33ff-d9a1-457c-b19a-d3c59d5b894a",
   "metadata": {},
   "source": [
    "<h3> 35. Create a NumPy function that extracts elements from a 2D array using row and column indices provided \n",
    "in separate arrays."
   ]
  },
  {
   "cell_type": "code",
   "execution_count": 113,
   "id": "36627f4f-ad87-4381-9162-0749b6485231",
   "metadata": {},
   "outputs": [
    {
     "name": "stdout",
     "output_type": "stream",
     "text": [
      "Original array:\n",
      "[[10 20 30]\n",
      " [40 50 60]\n",
      " [70 80 90]]\n",
      "\n",
      "Row indices:\n",
      "[0 1 2]\n",
      "\n",
      "Column indices:\n",
      "[1 2 0]\n",
      "\n",
      "Extracted elements:\n",
      "[20 60 70]\n"
     ]
    }
   ],
   "source": [
    "import numpy as np\n",
    "\n",
    "def extract_elements(arr, row_indices, col_indices):\n",
    "    return arr[row_indices, col_indices]\n",
    "\n",
    "# Create a 2D array\n",
    "arr = np.array([[10, 20, 30],\n",
    "                [40, 50, 60],\n",
    "                [70, 80, 90]])\n",
    "\n",
    "# Row and column indices\n",
    "row_indices = np.array([0, 1, 2])\n",
    "col_indices = np.array([1, 2, 0])\n",
    "\n",
    "# Extract elements\n",
    "extracted_elements = extract_elements(arr, row_indices, col_indices)\n",
    "\n",
    "print(\"Original array:\")\n",
    "print(arr)\n",
    "\n",
    "print(\"\\nRow indices:\")\n",
    "print(row_indices)\n",
    "\n",
    "print(\"\\nColumn indices:\")\n",
    "print(col_indices)\n",
    "\n",
    "print(\"\\nExtracted elements:\")\n",
    "print(extracted_elements)\n"
   ]
  },
  {
   "cell_type": "markdown",
   "id": "08c142a6-f4aa-4112-90ca-30cbea14083b",
   "metadata": {},
   "source": [
    "<h3> 36. Given an array arr of shape (3, 3), add a scalar value of 5 to each element using NumPy broadcasting.\n"
   ]
  },
  {
   "cell_type": "code",
   "execution_count": 112,
   "id": "986713f0-eff6-4290-b19c-02594e0b7e91",
   "metadata": {},
   "outputs": [
    {
     "name": "stdout",
     "output_type": "stream",
     "text": [
      "Original array:\n",
      "[[1 2 3]\n",
      " [4 5 6]\n",
      " [7 8 9]]\n",
      "\n",
      "Result after adding scalar value:\n",
      "[[ 6  7  8]\n",
      " [ 9 10 11]\n",
      " [12 13 14]]\n"
     ]
    }
   ],
   "source": [
    "import numpy as np\n",
    "\n",
    "# Create the array with shape (3, 3)\n",
    "arr = np.array([[1, 2, 3],\n",
    "                [4, 5, 6],\n",
    "                [7, 8, 9]])\n",
    "\n",
    "# Scalar value to add\n",
    "scalar = 5\n",
    "\n",
    "# Add the scalar to each element in the array\n",
    "result = arr + scalar\n",
    "\n",
    "# Print the result\n",
    "print(\"Original array:\")\n",
    "print(arr)\n",
    "\n",
    "print(\"\\nResult after adding scalar value:\")\n",
    "print(result)\n"
   ]
  },
  {
   "cell_type": "markdown",
   "id": "6a0c865b-9d9e-4971-bc8a-ee7a582eff65",
   "metadata": {},
   "source": [
    "<h3> 37. Consider two arrays arr1 of shape (1, 3) and arr2 of shape (3, 4). Multiply each row of arr2 by the corresponding element in arr1 using NumPy broadcasting."
   ]
  },
  {
   "cell_type": "code",
   "execution_count": 111,
   "id": "47c7757d-7862-48d4-9d80-9bb40f7183df",
   "metadata": {},
   "outputs": [
    {
     "name": "stdout",
     "output_type": "stream",
     "text": [
      "Array 1:\n",
      "[[2 3 4]]\n",
      "\n",
      "Array 2:\n",
      "[[ 1  2  3  4]\n",
      " [ 5  6  7  8]\n",
      " [ 9 10 11 12]]\n",
      "\n",
      "Result of multiplication using broadcasting:\n",
      "[[ 2  4  6  8]\n",
      " [15 18 21 24]\n",
      " [36 40 44 48]]\n"
     ]
    }
   ],
   "source": [
    "import numpy as np\n",
    "\n",
    "# Create the arrays\n",
    "arr1 = np.array([[2, 3, 4]])  # Shape (1, 3)\n",
    "arr2 = np.array([[1, 2, 3, 4],  # Shape (3, 4)\n",
    "                 [5, 6, 7, 8],\n",
    "                 [9, 10, 11, 12]])\n",
    "\n",
    "# Reshape arr1 to be compatible for broadcasting\n",
    "arr1_broadcasted = arr1.T  # Transpose to shape (3, 1)\n",
    "\n",
    "# Perform the multiplication using broadcasting\n",
    "result = arr2 * arr1_broadcasted\n",
    "\n",
    "# Print the result\n",
    "print(\"Array 1:\")\n",
    "print(arr1)\n",
    "\n",
    "print(\"\\nArray 2:\")\n",
    "print(arr2)\n",
    "\n",
    "print(\"\\nResult of multiplication using broadcasting:\")\n",
    "print(result)\n"
   ]
  },
  {
   "cell_type": "markdown",
   "id": "9fd8931d-a069-4b7c-b945-c82b1b610ee2",
   "metadata": {},
   "source": [
    "<h3> 38. Given a 1D array arr1 of shape (1, 4) and a 2D array arr2 of shape (4, 3), add arr1 to each row of arr2 using NumPy broadcasting."
   ]
  },
  {
   "cell_type": "code",
   "execution_count": 110,
   "id": "115a8bdc-9ef0-4e24-a349-e7583f1e100c",
   "metadata": {},
   "outputs": [
    {
     "name": "stdout",
     "output_type": "stream",
     "text": [
      "Array 1:\n",
      "[[1 2 3 4]]\n",
      "\n",
      "Array 2:\n",
      "[[ 10  20  30]\n",
      " [ 40  50  60]\n",
      " [ 70  80  90]\n",
      " [100 110 120]]\n",
      "\n",
      "Result of addition using broadcasting:\n",
      "[[ 11  22  33]\n",
      " [ 41  52  63]\n",
      " [ 71  82  93]\n",
      " [101 112 123]]\n"
     ]
    }
   ],
   "source": [
    "import numpy as np\n",
    "\n",
    "# Create the arrays\n",
    "arr1 = np.array([[1, 2, 3, 4]])  # Shape (1, 4)\n",
    "arr2 = np.array([[10, 20, 30],    # Shape (4, 3)\n",
    "                 [40, 50, 60],\n",
    "                 [70, 80, 90],\n",
    "                 [100, 110, 120]])\n",
    "\n",
    "# Adjust arr1 to match the shape of arr2 for broadcasting\n",
    "# Since arr2 has 3 columns, we need to adjust arr1 to shape (4, 3)\n",
    "# We will use slicing to match the dimensions\n",
    "arr1_broadcasted = arr1[:, :3]  # Shape (1, 3)\n",
    "\n",
    "# Perform the addition using broadcasting\n",
    "result = arr2 + arr1_broadcasted\n",
    "\n",
    "# Print the result\n",
    "print(\"Array 1:\")\n",
    "print(arr1)\n",
    "\n",
    "print(\"\\nArray 2:\")\n",
    "print(arr2)\n",
    "\n",
    "print(\"\\nResult of addition using broadcasting:\")\n",
    "print(result)"
   ]
  },
  {
   "cell_type": "markdown",
   "id": "37639659-e130-47df-bf86-f1ad37816b38",
   "metadata": {},
   "source": [
    "<h3> 39. Consider two arrays arr1 of shape (3, 1) and arr2 of shape (1, 3). Add these arrays using NumPy broadcasting."
   ]
  },
  {
   "cell_type": "code",
   "execution_count": 109,
   "id": "b8147c1a-d54f-478f-872f-71c2f4ccfcdb",
   "metadata": {},
   "outputs": [
    {
     "name": "stdout",
     "output_type": "stream",
     "text": [
      "Array 1:\n",
      "[[1]\n",
      " [2]\n",
      " [3]]\n",
      "\n",
      "Array 2:\n",
      "[[4 5 6]]\n",
      "\n",
      "Result of addition using broadcasting:\n",
      "[[5 6 7]\n",
      " [6 7 8]\n",
      " [7 8 9]]\n"
     ]
    }
   ],
   "source": [
    "import numpy as np\n",
    "\n",
    "# Create the arrays\n",
    "arr1 = np.array([[1], [2], [3]])  # Shape (3, 1)\n",
    "arr2 = np.array([[4, 5, 6]])      # Shape (1, 3)\n",
    "\n",
    "# Perform the addition using broadcasting\n",
    "result = arr1 + arr2\n",
    "\n",
    "# Print the result\n",
    "print(\"Array 1:\")\n",
    "print(arr1)\n",
    "\n",
    "print(\"\\nArray 2:\")\n",
    "print(arr2)\n",
    "\n",
    "print(\"\\nResult of addition using broadcasting:\")\n",
    "print(result)\n"
   ]
  },
  {
   "cell_type": "markdown",
   "id": "b46f3fe8-4f9c-45e7-abbe-078782b60d10",
   "metadata": {},
   "source": [
    "<h3> 40. Given arrays arr1 of shape (2, 3) and arr2 of shape (2, 2), perform multiplication using NumPy \n",
    "broadcasting. Handle the shape incompatibility."
   ]
  },
  {
   "cell_type": "code",
   "execution_count": 108,
   "id": "517c81f1-e925-40a2-bb05-0e4424712c8b",
   "metadata": {},
   "outputs": [
    {
     "name": "stdout",
     "output_type": "stream",
     "text": [
      "Array 1:\n",
      "[[1 2 3]\n",
      " [4 5 6]]\n",
      "\n",
      "Array 2 (reshaped for broadcasting):\n",
      "[[10 20]]\n",
      "\n",
      "Result of element-wise multiplication:\n",
      "[[ 10  40]\n",
      " [ 40 100]]\n"
     ]
    }
   ],
   "source": [
    "import numpy as np\n",
    "\n",
    "# Create the arrays\n",
    "arr1 = np.array([[1, 2, 3], [4, 5, 6]])\n",
    "arr2 = np.array([[10, 20]])  # Shape (1, 2) to be broadcasted over (2, 3)\n",
    "\n",
    "# Reshape arr2 to make it broadcastable with arr1\n",
    "# We want arr2 to be broadcasted along the rows of arr1\n",
    "arr2_broadcasted = arr2.reshape(1, 2)  # Shape (1, 2)\n",
    "\n",
    "# Perform the multiplication with broadcasting\n",
    "result = arr1[:, :2] * arr2_broadcasted  # Use slicing to match shapes\n",
    "\n",
    "# Print the result\n",
    "print(\"Array 1:\")\n",
    "print(arr1)\n",
    "\n",
    "print(\"\\nArray 2 (reshaped for broadcasting):\")\n",
    "print(arr2_broadcasted)\n",
    "\n",
    "print(\"\\nResult of element-wise multiplication:\")\n",
    "print(result)\n"
   ]
  },
  {
   "cell_type": "markdown",
   "id": "77536c8c-e806-4680-90d9-a8499cea2b56",
   "metadata": {},
   "source": [
    "<h3> 41. Calculate column wise mean for the given array:\n",
    "<h3> arr = np.array([[1, 2, 3], [4, 5, 6]])"
   ]
  },
  {
   "cell_type": "code",
   "execution_count": 103,
   "id": "82c1f11c-9abd-4470-9995-88386349d160",
   "metadata": {},
   "outputs": [
    {
     "name": "stdout",
     "output_type": "stream",
     "text": [
      "Original array:\n",
      "[[1 2 3]\n",
      " [4 5 6]]\n",
      "\n",
      "Column-wise means:\n",
      "[2.5 3.5 4.5]\n"
     ]
    }
   ],
   "source": [
    "import numpy as np\n",
    "\n",
    "# Create the array\n",
    "arr = np.array([[1, 2, 3], [4, 5, 6]])\n",
    "\n",
    "# Calculate the column-wise mean\n",
    "column_means = np.mean(arr, axis=0)\n",
    "\n",
    "# Print the result\n",
    "print(\"Original array:\")\n",
    "print(arr)\n",
    "\n",
    "print(\"\\nColumn-wise means:\")\n",
    "print(column_means)\n"
   ]
  },
  {
   "cell_type": "markdown",
   "id": "7f506cee-6f3a-4115-a2ba-c12867df56e0",
   "metadata": {},
   "source": [
    "<h3> 42. Find maximum value in each row of the given array:\n",
    "<h3> arr = np.array([[1, 2, 3], [4, 5, 6]])"
   ]
  },
  {
   "cell_type": "code",
   "execution_count": 102,
   "id": "31c9e065-ef0c-4ff9-a95b-27f492da9424",
   "metadata": {},
   "outputs": [
    {
     "name": "stdout",
     "output_type": "stream",
     "text": [
      "Original array:\n",
      "[[1 2 3]\n",
      " [4 5 6]]\n",
      "\n",
      "Indices of maximum values in each rows:\n",
      "[2 2]\n"
     ]
    }
   ],
   "source": [
    "import numpy as np\n",
    "\n",
    "# Create the array\n",
    "arr = np.array([[1, 2, 3], [4, 5, 6]])\n",
    "\n",
    "# Find the indices of the maximum values in each column\n",
    "indices_of_max = np.argmax(arr, axis=1)\n",
    "\n",
    "# Print the result\n",
    "print(\"Original array:\")\n",
    "print(arr)\n",
    "\n",
    "print(\"\\nIndices of maximum values in each rows:\")\n",
    "print(indices_of_max)"
   ]
  },
  {
   "cell_type": "markdown",
   "id": "5eb4c29e-74f6-4ca0-a0cd-a9e486a98657",
   "metadata": {},
   "source": [
    "<h3> 43. For the given array, find indices of maximum value in each column.\n",
    "<h3> arr = np.array([[1, 2, 3], [4, 5, 6]])\n"
   ]
  },
  {
   "cell_type": "code",
   "execution_count": 100,
   "id": "f532e03e-f6bd-4717-be75-c4e9ca27d1ab",
   "metadata": {},
   "outputs": [
    {
     "name": "stdout",
     "output_type": "stream",
     "text": [
      "Original array:\n",
      "[[1 2 3]\n",
      " [4 5 6]]\n",
      "\n",
      "Indices of maximum values in each column:\n",
      "[1 1 1]\n"
     ]
    }
   ],
   "source": [
    "import numpy as np\n",
    "\n",
    "# Create the array\n",
    "arr = np.array([[1, 2, 3], [4, 5, 6]])\n",
    "\n",
    "# Find the indices of the maximum values in each column\n",
    "indices_of_max = np.argmax(arr, axis=0)\n",
    "\n",
    "# Print the result\n",
    "print(\"Original array:\")\n",
    "print(arr)\n",
    "\n",
    "print(\"\\nIndices of maximum values in each column:\")\n",
    "print(indices_of_max)"
   ]
  },
  {
   "cell_type": "markdown",
   "id": "f6acd51d-9b3e-4f15-8f95-d436455faa9c",
   "metadata": {},
   "source": [
    "<h3> 44. For the given array, apply custom function to calculate moving sum along rows.\n",
    "<h3> arr = np.array([[1, 2, 3], [4, 5, 6]])"
   ]
  },
  {
   "cell_type": "code",
   "execution_count": 99,
   "id": "eb0294c3-052f-4165-8327-5ba071c87e6f",
   "metadata": {},
   "outputs": [
    {
     "name": "stdout",
     "output_type": "stream",
     "text": [
      "Original array:\n",
      "[[1 2 3]\n",
      " [4 5 6]]\n",
      "\n",
      "Moving sum with window size 2 :\n",
      "[[ 3  5]\n",
      " [ 9 11]]\n"
     ]
    }
   ],
   "source": [
    "import numpy as np\n",
    "\n",
    "def moving_sum(arr, window_size):\n",
    "    result = np.zeros((arr.shape[0], arr.shape[1] - window_size + 1), dtype=int)\n",
    "    \n",
    "    # Iterate over rows\n",
    "    for i in range(arr.shape[0]):\n",
    "        for j in range(arr.shape[1] - window_size + 1):\n",
    "            result[i, j] = np.sum(arr[i, j:j + window_size])\n",
    "    \n",
    "    return result\n",
    "\n",
    "# Create the array\n",
    "arr = np.array([[1, 2, 3], [4, 5, 6]])\n",
    "\n",
    "# Define the window size\n",
    "window_size = 2\n",
    "\n",
    "# Calculate moving sum\n",
    "moving_sums = moving_sum(arr, window_size)\n",
    "\n",
    "# Print the result\n",
    "print(\"Original array:\")\n",
    "print(arr)\n",
    "\n",
    "print(\"\\nMoving sum with window size\", window_size, \":\")\n",
    "print(moving_sums)"
   ]
  },
  {
   "cell_type": "markdown",
   "id": "a32973ee-51d1-405e-8820-e916304eea9a",
   "metadata": {},
   "source": [
    "<h3>45. In the given array, check if all elements in each column are even.\n",
    "<h3>arr = np.array([[2, 4, 6], [3, 5, 7]])"
   ]
  },
  {
   "cell_type": "code",
   "execution_count": 98,
   "id": "ff64e82d-8610-4126-b313-1f014ff133cb",
   "metadata": {},
   "outputs": [
    {
     "name": "stdout",
     "output_type": "stream",
     "text": [
      "Original array:\n",
      "[[2 4 6]\n",
      " [3 5 7]]\n",
      "\n",
      "All elements even in each column:\n",
      "[False False False]\n"
     ]
    }
   ],
   "source": [
    "import numpy as np\n",
    "\n",
    "# Create the array\n",
    "arr = np.array([[2, 4, 6], [3, 5, 7]])\n",
    "\n",
    "# Check if all elements are even\n",
    "all_even = (arr % 2 == 0)\n",
    "\n",
    "# Check if all elements in each column are even\n",
    "columns_all_even = np.all(all_even, axis=0)\n",
    "\n",
    "# Print the result\n",
    "print(\"Original array:\")\n",
    "print(arr)\n",
    "\n",
    "print(\"\\nAll elements even in each column:\")\n",
    "print(columns_all_even)"
   ]
  },
  {
   "cell_type": "markdown",
   "id": "720f38ce-93dc-47c9-855f-4675fbd0679c",
   "metadata": {},
   "source": [
    "<h3> 46. Given a NumPy array arr, reshape it into a matrix of dimensions `m` rows and `n` columns. Return the reshaped matrix.\n",
    "    <h3> original_array = np.array([1, 2, 3, 4, 5, 6])"
   ]
  },
  {
   "cell_type": "code",
   "execution_count": 95,
   "id": "a43815c0-69fe-4f24-97ec-d381d36eacfa",
   "metadata": {},
   "outputs": [
    {
     "name": "stdout",
     "output_type": "stream",
     "text": [
      "Original array:\n",
      "[1 2 3 4 5 6]\n",
      "\n",
      "Reshaped matrix:\n",
      "[[1 2 3]\n",
      " [4 5 6]]\n"
     ]
    }
   ],
   "source": [
    "import numpy as np\n",
    "\n",
    "def reshape_array(array, m, n):\n",
    "    reshaped_matrix = array.reshape(m, n) # Reshape the array to the specified dimensions\n",
    "    return reshaped_matrix\n",
    "\n",
    "# Create the original array\n",
    "original_array = np.array([1, 2, 3, 4, 5, 6])\n",
    "\n",
    "# Specify the dimensions for reshaping\n",
    "m = 2  # Number of rows\n",
    "n = 3  # Number of columns\n",
    "\n",
    "# Reshape the array\n",
    "reshaped_matrix = reshape_array(original_array, m, n)\n",
    "\n",
    "# Print the result\n",
    "print(\"Original array:\")\n",
    "print(original_array)\n",
    "\n",
    "print(\"\\nReshaped matrix:\")\n",
    "print(reshaped_matrix)\n"
   ]
  },
  {
   "cell_type": "markdown",
   "id": "3484c3ec-b007-4278-8ea1-a7b436fa1512",
   "metadata": {},
   "source": [
    "<h3> 47. Create a function that takes a matrix as input and returns the flattened array.\n",
    "<h3>input_matrix = np.array([[1, 2, 3], [4, 5, 6]])"
   ]
  },
  {
   "cell_type": "code",
   "execution_count": 94,
   "id": "76a53925-4191-40ad-bcf1-e414877d5c4f",
   "metadata": {},
   "outputs": [
    {
     "name": "stdout",
     "output_type": "stream",
     "text": [
      "Input matrix:\n",
      "[[1 2 3]\n",
      " [4 5 6]]\n",
      "\n",
      "Flattened array:\n",
      "[1 2 3 4 5 6]\n"
     ]
    }
   ],
   "source": [
    "import numpy as np\n",
    "\n",
    "def flatten_matrix(matrix):\n",
    "    flattened_array = matrix.flatten()  # Flatten the matrix to a one-dimensional array\n",
    "    return flattened_array\n",
    "\n",
    "# Create the input matrix\n",
    "input_matrix = np.array([[1, 2, 3], [4, 5, 6]])\n",
    "\n",
    "# Flatten the matrix\n",
    "result = flatten_matrix(input_matrix)\n",
    "\n",
    "# Print the result\n",
    "print(\"Input matrix:\")\n",
    "print(input_matrix)\n",
    "\n",
    "print(\"\\nFlattened array:\")\n",
    "print(result)\n"
   ]
  },
  {
   "cell_type": "markdown",
   "id": "0b23ed7d-71a8-4110-9e86-41576c0801bb",
   "metadata": {},
   "source": [
    "<h3> 48. Write a function that concatenates two given arrays along a specified axis.\n",
    "<h3>array1 = np.array([[1, 2], [3, 4]])\n",
    "<h3>array2 = np.array([[5, 6], [7, 8]])"
   ]
  },
  {
   "cell_type": "code",
   "execution_count": 93,
   "id": "fd281e27-4624-4d78-8fae-efbf78dd71ca",
   "metadata": {},
   "outputs": [
    {
     "name": "stdout",
     "output_type": "stream",
     "text": [
      "Concatenated along axis 0:\n",
      " [[1 2]\n",
      " [3 4]\n",
      " [5 6]\n",
      " [7 8]]\n",
      "\n",
      "Concatenated along axis 1:\n",
      " [[1 2 5 6]\n",
      " [3 4 7 8]]\n"
     ]
    }
   ],
   "source": [
    "import numpy as np\n",
    "\n",
    "def concatenate_arrays(arr1, arr2, axis=0):\n",
    "    return np.concatenate((arr1, arr2), axis=axis)\n",
    "\n",
    "# Example usage\n",
    "array1 = np.array([[1, 2], [3, 4]]) \n",
    "array2 = np.array([[5, 6], [7, 8]])\n",
    "\n",
    "# Concatenate along axis 0 (rows)\n",
    "concatenated_array_0 = concatenate_arrays(arr1, arr2, axis=0)\n",
    "print(\"Concatenated along axis 0:\\n\", concatenated_array_0)\n",
    "\n",
    "# Concatenate along axis 1 (columns)\n",
    "concatenated_array_1 = concatenate_arrays(arr1, arr2, axis=1)\n",
    "print(\"\\nConcatenated along axis 1:\\n\", concatenated_array_1)"
   ]
  },
  {
   "cell_type": "markdown",
   "id": "ffe88558-dd97-4d24-9c1d-784946f44b90",
   "metadata": {},
   "source": [
    "<h3> 49. Create a function that splits an array into multiple sub-arrays along a specified axis.\n",
    "<h3> original_array = np.array([[1, 2, 3], [4, 5, 6], [7, 8, 9]])"
   ]
  },
  {
   "cell_type": "code",
   "execution_count": 90,
   "id": "8f2c42f1-a158-49b6-a0c5-a8a4731075ba",
   "metadata": {},
   "outputs": [
    {
     "name": "stdout",
     "output_type": "stream",
     "text": [
      "Original array:\n",
      "[[1 2 3]\n",
      " [4 5 6]\n",
      " [7 8 9]]\n",
      "\n",
      "Sub-arrays after splitting:\n",
      "Sub-array 0:\n",
      "[[1 2 3]]\n",
      "Sub-array 1:\n",
      "[[4 5 6]]\n",
      "Sub-array 2:\n",
      "[[7 8 9]]\n"
     ]
    }
   ],
   "source": [
    "import numpy as np\n",
    "\n",
    "# Create the original array\n",
    "original_array = np.array([[1, 2, 3], [4, 5, 6], [7, 8, 9]])\n",
    "\n",
    "# Define the number of splits and axis\n",
    "num_splits = 3\n",
    "axis = 0  # Split along columns\n",
    "\n",
    "# Use np.array_split to split the array along the specified axis\n",
    "sub_arrays = np.array_split(original_array, num_splits, axis=axis)\n",
    "\n",
    "# Print the result\n",
    "print(\"Original array:\")\n",
    "print(original_array)\n",
    "\n",
    "print(\"\\nSub-arrays after splitting:\")\n",
    "for i, sub_array in enumerate(sub_arrays):\n",
    "    print(f\"Sub-array {i}:\")\n",
    "    print(sub_array)"
   ]
  },
  {
   "cell_type": "markdown",
   "id": "e91456db-4720-45d7-93b1-a457d2dd069c",
   "metadata": {},
   "source": [
    "<h3>50. Write a function that inserts and then deletes elements from a given array at specified indices.\n",
    "<h3>original_array = np.array([1, 2, 3, 4, 5])\n",
    "<h3>indices_to_insert = [2, 4]\n",
    "<h3>values_to_insert = [10, 11]\n",
    "<h3>indices_to_delete = [1, 3]"
   ]
  },
  {
   "cell_type": "code",
   "execution_count": 88,
   "id": "e00cc1aa-8a8b-4635-9605-5e36888de20a",
   "metadata": {},
   "outputs": [
    {
     "name": "stdout",
     "output_type": "stream",
     "text": [
      "Original array:\n",
      "[1 2 3 4 5]\n",
      "\n",
      "Array after insertion and deletion:\n",
      "[ 1 10  4 11  5]\n"
     ]
    }
   ],
   "source": [
    "#used chatgpt to solve this question\n",
    "import numpy as np\n",
    "\n",
    "def modify_array(original_array, indices_to_insert, values_to_insert, indices_to_delete):\n",
    "    # Convert indices to insert and values to insert to NumPy arrays\n",
    "    indices_to_insert = np.array(indices_to_insert)\n",
    "    values_to_insert = np.array(values_to_insert)\n",
    "    \n",
    "    # Insert values into the original array\n",
    "    # Use np.insert to insert values into the array at specified indices\n",
    "    array_after_insertion = np.insert(original_array, indices_to_insert, values_to_insert)\n",
    "    \n",
    "    # Sort indices to delete in descending order to avoid index shifting issues\n",
    "    indices_to_delete = sorted(indices_to_delete, reverse=True)\n",
    "    \n",
    "    # Delete elements from the array\n",
    "    # Use np.delete to remove elements at specified indices\n",
    "    final_array = np.delete(array_after_insertion, indices_to_delete)\n",
    "    \n",
    "    return final_array\n",
    "\n",
    "# Original array\n",
    "original_array = np.array([1, 2, 3, 4, 5])\n",
    "\n",
    "# Indices and values to insert\n",
    "indices_to_insert = [2, 4]\n",
    "values_to_insert = [10, 11]\n",
    "\n",
    "# Indices to delete\n",
    "indices_to_delete = [1, 3]\n",
    "\n",
    "# Modify the array\n",
    "result_array = modify_array(original_array, indices_to_insert, values_to_insert, indices_to_delete)\n",
    "\n",
    "# Print the result\n",
    "print(\"Original array:\")\n",
    "print(original_array)\n",
    "\n",
    "print(\"\\nArray after insertion and deletion:\")\n",
    "print(result_array)\n"
   ]
  },
  {
   "cell_type": "markdown",
   "id": "0b2c21c8-16bb-416d-82c5-92e195085cd9",
   "metadata": {},
   "source": [
    "<h3>51. Create a NumPy array `arr1` with random integers and another array `arr2` with integers from 1 to 10. Perform element-wise addition between `arr1` and `arr2`."
   ]
  },
  {
   "cell_type": "code",
   "execution_count": 87,
   "id": "23f0afa7-dfa8-49fc-a03f-5f3c8cfc14c8",
   "metadata": {},
   "outputs": [
    {
     "name": "stdout",
     "output_type": "stream",
     "text": [
      "arr1: [94 21 79  3 90  9 59 14 68 94]\n",
      "\n",
      "arr2: [ 1  2  3  4  5  6  7  8  9 10]\n",
      "\n",
      "Element-wise Addition (arr1 + arr2):\n",
      "[ 95  23  82   7  95  15  66  22  77 104]\n"
     ]
    }
   ],
   "source": [
    "import numpy as np\n",
    "#creating numpy arrays\n",
    "arr1 = np.random.randint(1,100, size = 10)\n",
    "arr2 = np.array([1,2,3,4,5,6,7,8,9,10])\n",
    "\n",
    "#perform element wise addition \n",
    "result = arr1 + arr2\n",
    "print(\"arr1:\", arr1)\n",
    "print(\"\\narr2:\", arr2)\n",
    "print(\"\\nElement-wise Addition (arr1 + arr2):\")\n",
    "print(result)"
   ]
  },
  {
   "cell_type": "markdown",
   "id": "372389a8-3a3a-42f8-b611-232d203e485c",
   "metadata": {},
   "source": [
    "<h3>52. Generate a NumPy array `arr1` with sequential integers from 10 to 1 and another array `arr2` with integers from 1 to 10. Subtract `arr2` from `arr1` element-wise."
   ]
  },
  {
   "cell_type": "code",
   "execution_count": 86,
   "id": "96c658bd-04b2-4777-8ad0-c94cc8f1f8e4",
   "metadata": {},
   "outputs": [
    {
     "name": "stdout",
     "output_type": "stream",
     "text": [
      "arr1: [10  9  8  7  6  5  4  3  2  1]\n",
      "\n",
      "arr2: [ 1  2  3  4  5  6  7  8  9 10]\n",
      "\n",
      "Element-wise substraction (arr1 - arr2):\n",
      "[ 9  7  5  3  1 -1 -3 -5 -7 -9]\n"
     ]
    }
   ],
   "source": [
    "import numpy as np \n",
    "\n",
    "#creating numpy arrays\n",
    "arr1 = np.array([10,9,8,7,6,5,4,3,2,1])\n",
    "arr2 = np.array([1,2,3,4,5,6,7,8,9,10])\n",
    "\n",
    "#perform element wise substraction\n",
    "result = arr1 - arr2\n",
    "print(\"arr1:\", arr1)\n",
    "print(\"\\narr2:\", arr2)\n",
    "print(\"\\nElement-wise substraction (arr1 - arr2):\")\n",
    "print(result)"
   ]
  },
  {
   "cell_type": "markdown",
   "id": "724d981b-978b-48a2-a698-6c4834084e54",
   "metadata": {},
   "source": [
    "<h3>53. Create a NumPy array `arr1` with random integers and another array `arr2` with integers from 1 to 5. Perform element-wise multiplication between `arr1` and `arr2`."
   ]
  },
  {
   "cell_type": "code",
   "execution_count": 85,
   "id": "8eceb043-35d2-4e8a-a264-acfa264d6ac4",
   "metadata": {},
   "outputs": [
    {
     "name": "stdout",
     "output_type": "stream",
     "text": [
      "arr1: [27 21 49 26 47]\n",
      "\n",
      "arr2: [1 2 3 4 5]\n",
      "\n",
      "Element-wise multiplication (arr1 * arr2):\n",
      "[ 27  42 147 104 235]\n"
     ]
    }
   ],
   "source": [
    "import numpy as np\n",
    "\n",
    "#create numpy arrays\n",
    "arr1 = np.random.randint(1,50, size=5)\n",
    "arr2 = np.array([1,2,3,4,5])\n",
    "\n",
    "#perform element-wise multiplication\n",
    "result = arr1 * arr2\n",
    "# Print the result\n",
    "print(\"arr1:\", arr1)\n",
    "print(\"\\narr2:\", arr2)\n",
    "print(\"\\nElement-wise multiplication (arr1 * arr2):\")\n",
    "print(result)"
   ]
  },
  {
   "cell_type": "markdown",
   "id": "de320a6f-700f-4e64-83a5-511c911f88d4",
   "metadata": {},
   "source": [
    "<h3>54. Generate a NumPy array `arr1` with even integers from 2 to 10 and another array `arr2` with integers from 1 to 5. Perform element-wise division of `arr1` by `arr2`."
   ]
  },
  {
   "cell_type": "code",
   "execution_count": 83,
   "id": "c71758e3-c975-4df0-b8fb-ecea94eacdbf",
   "metadata": {},
   "outputs": [
    {
     "name": "stdout",
     "output_type": "stream",
     "text": [
      "arr1: [ 2  4  6  8 10]\n",
      "arr2: [1 2 3 4 5]\n",
      "Element-wise division (arr1 / arr2):\n",
      "[2. 2. 2. 2. 2.]\n"
     ]
    }
   ],
   "source": [
    "import numpy as np\n",
    "\n",
    "# Create NumPy arrays\n",
    "arr1 = np.array([2, 4, 6, 8, 10])  # Even integers from 2 to 10\n",
    "arr2 = np.array([1, 2, 3, 4, 5])   # Integers from 1 to 5\n",
    "\n",
    "# Perform element-wise division\n",
    "result = arr1 / arr2\n",
    "\n",
    "# Print the result\n",
    "print(\"arr1:\", arr1)\n",
    "print(\"arr2:\", arr2)\n",
    "print(\"Element-wise division (arr1 / arr2):\")\n",
    "print(result)"
   ]
  },
  {
   "cell_type": "markdown",
   "id": "51e7fc21-8b8b-4482-917a-6d580436e5f8",
   "metadata": {},
   "source": [
    "<h3>55. Create a NumPy array `arr1` with integers from 1 to 5 and another array `arr2` with the same numbers reversed. Calculate the exponentiation of `arr1` raised to the power of `arr2` element-wise."
   ]
  },
  {
   "cell_type": "code",
   "execution_count": 82,
   "id": "a0d5ffb7-cc56-49e0-8d86-e5b26fbeff0b",
   "metadata": {},
   "outputs": [
    {
     "name": "stdout",
     "output_type": "stream",
     "text": [
      "arr1: [1 2 3 4 5]\n",
      "arr2: [5 4 3 2 1]\n",
      "Element-wise exponentiation (arr1 ** arr2):\n",
      "[ 1 16 27 16  5]\n"
     ]
    }
   ],
   "source": [
    "import numpy as np\n",
    "\n",
    "# Create NumPy arrays\n",
    "arr1 = np.array([1, 2, 3, 4, 5])\n",
    "arr2 = np.array([5, 4, 3, 2, 1])  # Reversed array\n",
    "\n",
    "# Perform element-wise exponentiation\n",
    "result = arr1 ** arr2\n",
    "\n",
    "# Print the result\n",
    "print(\"arr1:\", arr1)\n",
    "print(\"arr2:\", arr2)\n",
    "print(\"Element-wise exponentiation (arr1 ** arr2):\")\n",
    "print(result)"
   ]
  },
  {
   "cell_type": "markdown",
   "id": "54dbecc5-651c-40a7-8edb-5e7938518ded",
   "metadata": {},
   "source": [
    "<h3> 56. Write a function that counts the occurrences of a specific substring within a NumPy array of strings.\n",
    "<h3> arr = np.array(['hello', 'world', 'hello', 'numpy', 'hello'])\n"
   ]
  },
  {
   "cell_type": "code",
   "execution_count": 81,
   "id": "104f50b5-5658-4496-b399-f16aa9c416e8",
   "metadata": {},
   "outputs": [
    {
     "name": "stdout",
     "output_type": "stream",
     "text": [
      "Total occurrences of 'hello' in the array: 3\n"
     ]
    }
   ],
   "source": [
    "import numpy as np\n",
    "\n",
    "def count_substring_occurrences(arr, substring):\n",
    "    # Count occurrences of the substring in each element of the array\n",
    "    counts = np.char.count(arr, substring)\n",
    "    # Sum up all the counts\n",
    "    total_count = np.sum(counts)\n",
    "    return total_count\n",
    "\n",
    "# Create a NumPy array of strings\n",
    "arr = np.array(['hello', 'world', 'hello', 'numpy', 'hello'])\n",
    "\n",
    "# Specify the substring to count\n",
    "substring = 'hello'\n",
    "\n",
    "# Count occurrences of the substring\n",
    "total_occurrences = count_substring_occurrences(arr, substring)\n",
    "\n",
    "# Print the result\n",
    "print(\"Total occurrences of '{}' in the array: {}\".format(substring, total_occurrences))"
   ]
  },
  {
   "cell_type": "markdown",
   "id": "778c6127-8995-416d-b13b-98037580c954",
   "metadata": {},
   "source": [
    "<h3>57. Write a function that extracts uppercase characters from a NumPy array of strings.\n",
    "\n",
    "<h3>arr = np.array(['Hello', 'World', 'OpenAI', 'GPT'])"
   ]
  },
  {
   "cell_type": "code",
   "execution_count": 80,
   "id": "27d18ad8-0fde-4ac5-b269-26d7cae9ff2d",
   "metadata": {},
   "outputs": [
    {
     "name": "stdout",
     "output_type": "stream",
     "text": [
      "Original array:\n",
      "['Hello' 'World' 'OpenAI' 'GPT']\n",
      "\n",
      "Uppercase characters extracted:\n",
      "['H' 'W' 'OAI' 'GPT']\n"
     ]
    }
   ],
   "source": [
    "import numpy as np\n",
    "\n",
    "# Create a NumPy array of strings\n",
    "arr = np.array(['Hello', 'World', 'OpenAI', 'GPT'])\n",
    "\n",
    "# Extract uppercase characters from each string\n",
    "uppercase_chars = np.array([''.join([char for char in s if char.isupper()]) for s in arr])\n",
    "\n",
    "# Print the result\n",
    "print(\"Original array:\")\n",
    "print(arr)\n",
    "\n",
    "print(\"\\nUppercase characters extracted:\")\n",
    "print(uppercase_chars)"
   ]
  },
  {
   "cell_type": "markdown",
   "id": "dba3788d-ba52-4a6a-bb4d-ca78b5d98e00",
   "metadata": {},
   "source": [
    "<h3>58. Write a function that replaces occurrences of a substring in a NumPy array of strings with a new string.\n",
    "<h3>arr = np.array(['apple', 'banana', 'grape', 'pineapple'])\n"
   ]
  },
  {
   "cell_type": "code",
   "execution_count": 77,
   "id": "f63ce1f0-e28b-40a4-b793-b265a749c4f8",
   "metadata": {},
   "outputs": [
    {
     "name": "stdout",
     "output_type": "stream",
     "text": [
      "Original array:\n",
      "['apple' 'banana' 'grape' 'pineapple']\n",
      "\n",
      "Array after replacement:\n",
      "['fruit' 'banana' 'grape' 'pinefruit']\n"
     ]
    }
   ],
   "source": [
    "import numpy as np\n",
    "\n",
    "def replace_substring(arr, old_substring, new_substring):\n",
    "    # Replace occurrences of old_substring with new_substring\n",
    "    replaced_arr = np.char.replace(arr, old_substring, new_substring)\n",
    "    return replaced_arr\n",
    "\n",
    "# Create a NumPy array of strings\n",
    "arr = np.array(['apple', 'banana', 'grape', 'pineapple'])\n",
    "\n",
    "# Specify the old and new substrings\n",
    "old_substring = 'apple'\n",
    "new_substring = 'fruit'\n",
    "\n",
    "# Replace occurrences of the old substring with the new substring\n",
    "result = replace_substring(arr, old_substring, new_substring)\n",
    "\n",
    "# Print the resulting array\n",
    "print(\"Original array:\")\n",
    "print(arr)\n",
    "print(\"\\nArray after replacement:\")\n",
    "print(result)\n"
   ]
  },
  {
   "cell_type": "markdown",
   "id": "0019023e-dce2-4a91-9be4-959bec21d96c",
   "metadata": {},
   "source": [
    "<h3>59. Write a function that concatenates strings in a NumPy array element-wise.\n",
    "<h3>arr1 = np.array(['Hello', 'World'])\n",
    "<h3>arr2 = np.array(['Open', 'AI'])"
   ]
  },
  {
   "cell_type": "code",
   "execution_count": 72,
   "id": "ac3c9ba2-7019-4a14-a064-247f44fa3610",
   "metadata": {},
   "outputs": [
    {
     "name": "stdout",
     "output_type": "stream",
     "text": [
      "Concatenated array:\n",
      "['HelloOpen' 'WorldAI']\n"
     ]
    }
   ],
   "source": [
    "import numpy as np\n",
    "\n",
    "# Create two NumPy arrays of strings\n",
    "arr1 = np.array(['Hello', 'World'])\n",
    "arr2 = np.array(['Open', 'AI'])\n",
    "\n",
    "# Concatenate the strings element-wise\n",
    "concatenated_arr = np.char.add(arr1, arr2)\n",
    "\n",
    "# Print the resulting array\n",
    "print(\"Concatenated array:\")\n",
    "print(concatenated_arr)"
   ]
  },
  {
   "cell_type": "markdown",
   "id": "28a2f137-4247-4743-ade2-456c23b3e0d3",
   "metadata": {},
   "source": [
    "<h3> 60. Write a function that finds the length of the longest string in a NumPy array.\n",
    "\n",
    "<h3>arr = np.array(['apple', 'banana', 'grape', 'pineapple'])"
   ]
  },
  {
   "cell_type": "code",
   "execution_count": 76,
   "id": "0a6af5a3-d760-4496-9553-66e47232a948",
   "metadata": {},
   "outputs": [
    {
     "name": "stdout",
     "output_type": "stream",
     "text": [
      "Length of the longest string: 9\n"
     ]
    }
   ],
   "source": [
    "import numpy as np\n",
    "\n",
    "def longest_string_length(arr):\n",
    "    # Find the lengths of all strings in the array\n",
    "    lengths = np.vectorize(len)(arr)\n",
    "    # Return the maximum length\n",
    "    return np.max(lengths)\n",
    "\n",
    "# Create a NumPy array of strings\n",
    "arr = np.array(['apple', 'banana', 'grape', 'pineapple'])\n",
    "\n",
    "# Find the length of the longest string\n",
    "max_length = longest_string_length(arr)\n",
    "\n",
    "# Print the result\n",
    "print(\"Length of the longest string:\", max_length)\n"
   ]
  },
  {
   "cell_type": "markdown",
   "id": "b6d78ef7-0d2b-4263-8055-5b43fde43d0e",
   "metadata": {},
   "source": [
    "<h3> 61. Create a dataset of 100 random integers between 1 and 1000. Compute the mean, median, variance, and standard deviation of the dataset using NumPy's functions."
   ]
  },
  {
   "cell_type": "code",
   "execution_count": 68,
   "id": "1f647164-3442-4f0c-bcf8-4b3d1a0740fc",
   "metadata": {},
   "outputs": [
    {
     "name": "stdout",
     "output_type": "stream",
     "text": [
      "Dataset:\n",
      "[140 209 779 463 218 485 750 904 976 199 201 100 185 789 263 897 703 253\n",
      " 317 657  12 853 335 480 319 898 525 439 779 916 281  67 934 164 199 137\n",
      " 304 559 218  74 744 343 805  87 428 393 498 551 640 697 925 800 611  73\n",
      " 190 424 295 619 368 483 769 110 772 325 971 868 343  11 521  22 421 956\n",
      " 173 485 457 363 533 416 776 670 624 958 438 613 195 708 213 495 553 185\n",
      " 579  67 162 243 586 547 715 419 356 366]\n",
      "\n",
      "Mean: 469.39\n",
      "Median: 448.0\n",
      "Variance: 72657.23790000001\n",
      "Standard Deviation: 269.55006566498923\n"
     ]
    }
   ],
   "source": [
    "import numpy as np\n",
    "\n",
    "# Create a NumPy array of 100 random integers between 1 and 1000\n",
    "data = np.random.randint(1, 1001, size=100)\n",
    "\n",
    "# Compute mean, median, variance, and standard deviation\n",
    "mean = np.mean(data)\n",
    "median = np.median(data)\n",
    "variance = np.var(data)\n",
    "std_dev = np.std(data)\n",
    "\n",
    "# Print the results\n",
    "print(\"Dataset:\")\n",
    "print(data)\n",
    "\n",
    "print(\"\\nMean:\", mean)\n",
    "print(\"Median:\", median)\n",
    "print(\"Variance:\", variance)\n",
    "print(\"Standard Deviation:\", std_dev)"
   ]
  },
  {
   "cell_type": "markdown",
   "id": "c9fe1c37-6202-4ad7-b01d-891c43f09ce9",
   "metadata": {},
   "source": [
    "<h3> 62. Generate an array of 50 random numbers between 1 and 100. Find the 25th and 75th percentiles of the dataset."
   ]
  },
  {
   "cell_type": "code",
   "execution_count": 67,
   "id": "62a2544e-e8ab-4191-a89f-67c9ef6e7648",
   "metadata": {},
   "outputs": [
    {
     "name": "stdout",
     "output_type": "stream",
     "text": [
      "Array:\n",
      "[36 18 35 86 41 35 18 15 30 75 61 90 85 12  5 60 83 35 18 95 63 78  2 44\n",
      " 73  4 88 53 62 74 91 33 18 23 51 77 49 18 54 38 23  3 98  9 11 47 33 82\n",
      " 77 93]\n",
      "\n",
      "25th Percentile: 19.25\n",
      "75th Percentile: 76.5\n"
     ]
    }
   ],
   "source": [
    "import numpy as np\n",
    "\n",
    "# Generate a NumPy array of 50 random integers between 1 and 100\n",
    "data = np.random.randint(1, 101, size=50)\n",
    "\n",
    "# Calculate the 25th and 75th percentiles\n",
    "percentile_25 = np.percentile(data, 25)\n",
    "percentile_75 = np.percentile(data, 75)\n",
    "\n",
    "# Print the array and the percentiles\n",
    "print(\"Array:\")\n",
    "print(data)\n",
    "\n",
    "print(\"\\n25th Percentile:\", percentile_25)\n",
    "print(\"75th Percentile:\", percentile_75)"
   ]
  },
  {
   "cell_type": "markdown",
   "id": "249168bb-b0c5-4d7a-a1ff-ad2a9eb1d76f",
   "metadata": {},
   "source": [
    "<h3> 63. Create two arrays representing two sets of variables. Compute the correlation coefficient between these arrays using NumPy's `corrcoef` function."
   ]
  },
  {
   "cell_type": "code",
   "execution_count": 66,
   "id": "7369ea42-4717-4677-acd3-1a5e6b703256",
   "metadata": {},
   "outputs": [
    {
     "name": "stdout",
     "output_type": "stream",
     "text": [
      "Correlation coefficient matrix:\n",
      "[[1. 1.]\n",
      " [1. 1.]]\n"
     ]
    }
   ],
   "source": [
    "import numpy as np\n",
    "\n",
    "# Create two arrays representing two sets of variables\n",
    "array_x = np.array([10, 20, 30, 40, 50])\n",
    "array_y = np.array([1, 2, 3, 4, 5])\n",
    "\n",
    "# Compute the correlation coefficient matrix\n",
    "correlation_matrix = np.corrcoef(array_x, array_y)\n",
    "\n",
    "# Print the correlation coefficient matrix\n",
    "print(\"Correlation coefficient matrix:\")\n",
    "print(correlation_matrix)"
   ]
  },
  {
   "cell_type": "markdown",
   "id": "9c251e7c-ea93-4222-960c-0a85f854d5df",
   "metadata": {},
   "source": [
    "<h3> 64. Create two matrices and perform matrix multiplication using NumPy's `dot` function."
   ]
  },
  {
   "cell_type": "code",
   "execution_count": 65,
   "id": "a164b8d8-8a6c-4edf-a4f1-4b9b47ff424d",
   "metadata": {},
   "outputs": [
    {
     "name": "stdout",
     "output_type": "stream",
     "text": [
      "Matrix A:\n",
      "[[1 2 3]\n",
      " [4 5 6]]\n",
      "\n",
      "Matrix B:\n",
      "[[ 7  8]\n",
      " [ 9 10]\n",
      " [11 12]]\n",
      "\n",
      "Result of Matrix A multiplied by Matrix B:\n",
      "[[ 58  64]\n",
      " [139 154]]\n"
     ]
    }
   ],
   "source": [
    "import numpy as np\n",
    "\n",
    "# Create two matrices\n",
    "matrix_A = np.array([[1, 2, 3],\n",
    "                     [4, 5, 6]])\n",
    "\n",
    "matrix_B = np.array([[7, 8],\n",
    "                     [9, 10],\n",
    "                     [11, 12]])\n",
    "\n",
    "# Perform matrix multiplication using np.dot\n",
    "result_matrix = np.dot(matrix_A, matrix_B)\n",
    "\n",
    "# Print the resulting matrix\n",
    "print(\"Matrix A:\")\n",
    "print(matrix_A)\n",
    "\n",
    "print(\"\\nMatrix B:\")\n",
    "print(matrix_B)\n",
    "\n",
    "print(\"\\nResult of Matrix A multiplied by Matrix B:\")\n",
    "print(result_matrix)\n"
   ]
  },
  {
   "cell_type": "markdown",
   "id": "3a44b3d1-771f-4810-b944-91b06261ee46",
   "metadata": {},
   "source": [
    "<h3> 65. Create an array of 50 integers between 10 and 1000. Calculate the 10th, 50th (median), and 90th percentiles along with the first and third quartiles."
   ]
  },
  {
   "cell_type": "code",
   "execution_count": 64,
   "id": "64d6cbe1-1709-4839-80a0-e6ee55dc2185",
   "metadata": {},
   "outputs": [
    {
     "name": "stdout",
     "output_type": "stream",
     "text": [
      "Array:\n",
      "[233 778 592 116 820 188 306 958  86 289 633  51 793 565 295 802 535 533\n",
      " 270 707 382 886 652 433 359 853 914 821  54 697 457 595 376 238 796 838\n",
      " 466 426 303  99 490 448 357  99 809 819 562 243 734 967]\n",
      "\n",
      "10th Percentile: 114.30000000000001\n",
      "50th Percentile (Median): 511.5\n",
      "90th Percentile: 839.5\n",
      "First Quartile (25th Percentile): 297.0\n",
      "Third Quartile (75th Percentile): 789.25\n"
     ]
    }
   ],
   "source": [
    "import numpy as np\n",
    "\n",
    "# Create a NumPy array of 50 integers between 10 and 1000\n",
    "arr = np.random.randint(10, 1001, size=50)\n",
    "\n",
    "# Calculate the 10th, 50th (median), and 90th percentiles\n",
    "percentile_10 = np.percentile(arr, 10)\n",
    "percentile_50 = np.percentile(arr, 50)  # Median\n",
    "percentile_90 = np.percentile(arr, 90)\n",
    "\n",
    "# Calculate the first (25th) and third (75th) quartiles\n",
    "quartile_1 = np.percentile(arr, 25)\n",
    "quartile_3 = np.percentile(arr, 75)\n",
    "\n",
    "# Print the array and the calculated percentiles and quartiles\n",
    "print(\"Array:\")\n",
    "print(arr)\n",
    "\n",
    "print(\"\\n10th Percentile:\", percentile_10)\n",
    "print(\"50th Percentile (Median):\", percentile_50)\n",
    "print(\"90th Percentile:\", percentile_90)\n",
    "print(\"First Quartile (25th Percentile):\", quartile_1)\n",
    "print(\"Third Quartile (75th Percentile):\", quartile_3)\n"
   ]
  },
  {
   "cell_type": "markdown",
   "id": "fd2044cd-4a9c-407b-9ff6-69bacca3566d",
   "metadata": {},
   "source": [
    "<h3>66. Create a NumPy array of integers and find the index of a specific element.\n"
   ]
  },
  {
   "cell_type": "code",
   "execution_count": 63,
   "id": "f1536385-e478-492a-867b-266c627ca5eb",
   "metadata": {},
   "outputs": [
    {
     "name": "stdout",
     "output_type": "stream",
     "text": [
      "Index of element 40 : [3]\n"
     ]
    }
   ],
   "source": [
    "import numpy as np\n",
    "\n",
    "# Create a NumPy array of integers\n",
    "arr = np.array([10, 20, 30, 40, 50, 60, 70])\n",
    "\n",
    "# Define the element to find\n",
    "element_to_find = 40\n",
    "\n",
    "# Find the index of the specific element\n",
    "indices = np.where(arr == element_to_find)\n",
    "\n",
    "# Print the indices\n",
    "print(\"Index of element\", element_to_find, \":\", indices[0])"
   ]
  },
  {
   "cell_type": "markdown",
   "id": "2953bed3-dd4d-4f1d-a003-09461849d76e",
   "metadata": {},
   "source": [
    "<h3> 67. Generate a random NumPy array and sort it in ascending order.\n"
   ]
  },
  {
   "cell_type": "code",
   "execution_count": 62,
   "id": "12845e1a-befd-4c12-a066-fa0be54987b9",
   "metadata": {},
   "outputs": [
    {
     "name": "stdout",
     "output_type": "stream",
     "text": [
      "Original array:\n",
      "[  9   9   1 100  66  22  41  42  67  71]\n",
      "\n",
      "Sorted array in ascending order:\n",
      "[  1   9   9  22  41  42  66  67  71 100]\n"
     ]
    }
   ],
   "source": [
    "import numpy as np\n",
    "\n",
    "# Generate a random NumPy array of shape (10,) with integers between 1 and 100\n",
    "random_arr = np.random.randint(1, 101, size=10)\n",
    "\n",
    "# Print the original random array\n",
    "print(\"Original array:\")\n",
    "print(random_arr)\n",
    "\n",
    "# Sort the array in ascending order\n",
    "sorted_arr = np.sort(random_arr)\n",
    "\n",
    "# Print the sorted array\n",
    "print(\"\\nSorted array in ascending order:\")\n",
    "print(sorted_arr)"
   ]
  },
  {
   "cell_type": "markdown",
   "id": "23f2c884-9c0c-4432-942c-b6b140c4f604",
   "metadata": {},
   "source": [
    "<h3>68. Filter elements >20  in the given NumPy array.\n",
    "<h3>arr = np.array([12, 25, 6, 42, 8, 30])\n"
   ]
  },
  {
   "cell_type": "code",
   "execution_count": 61,
   "id": "34bb849f-0ca1-409d-a746-932cdd1bb00b",
   "metadata": {},
   "outputs": [
    {
     "name": "stdout",
     "output_type": "stream",
     "text": [
      "Filtered array:\n",
      "[25 42 30]\n"
     ]
    }
   ],
   "source": [
    "import numpy as np\n",
    "\n",
    "# Create a NumPy array\n",
    "arr = np.array([12, 25, 6, 42, 8, 30])\n",
    "\n",
    "# Filter elements which are ≥ 20 and ≤ 40\n",
    "filtered_arr = arr[(arr > 20)]\n",
    "\n",
    "# Print the filtered array\n",
    "print(\"Filtered array:\")\n",
    "print(filtered_arr)"
   ]
  },
  {
   "cell_type": "markdown",
   "id": "e9021e75-5895-4794-a230-dc7f6798a781",
   "metadata": {},
   "source": [
    "<h3> 69. Filter elements which are divisible by 3 from a given NumPy array.\n",
    "<h3> arr = np.array([1, 5, 8, 12, 15])"
   ]
  },
  {
   "cell_type": "code",
   "execution_count": 59,
   "id": "7f2fff56-7618-4b78-8099-fe3171f3d00b",
   "metadata": {},
   "outputs": [
    {
     "name": "stdout",
     "output_type": "stream",
     "text": [
      "Filtered array (divisible by 3):\n",
      "[12 15]\n"
     ]
    }
   ],
   "source": [
    "import numpy as np\n",
    "\n",
    "# Create a NumPy array\n",
    "arr = np.array([1, 5, 8, 12, 15])\n",
    "\n",
    "# Filter elements which are divisible by 3\n",
    "filtered_arr = arr[arr % 3 == 0]\n",
    "\n",
    "# Print the filtered array\n",
    "print(\"Filtered array (divisible by 3):\")\n",
    "print(filtered_arr)"
   ]
  },
  {
   "cell_type": "markdown",
   "id": "1c58f55a-58fa-4a86-97f9-fd4c84fc9052",
   "metadata": {},
   "source": [
    "<h3> 70. Filter elements which are ≥ 20 and ≤ 40 from a given NumPy array.\n",
    "<h3>arr = np.array([10, 20, 30, 40, 50])"
   ]
  },
  {
   "cell_type": "code",
   "execution_count": 58,
   "id": "0c9a2934-e011-44cb-be28-30f1f4e9898d",
   "metadata": {},
   "outputs": [
    {
     "name": "stdout",
     "output_type": "stream",
     "text": [
      "Filtered array:\n",
      "[20 30 40]\n"
     ]
    }
   ],
   "source": [
    "import numpy as np\n",
    "\n",
    "# Create a NumPy array\n",
    "arr = np.array([10, 20, 30, 40, 50])\n",
    "\n",
    "# Filter elements which are ≥ 20 and ≤ 40\n",
    "filtered_arr = arr[(arr >= 20) & (arr <= 40)]\n",
    "\n",
    "# Print the filtered array\n",
    "print(\"Filtered array:\")\n",
    "print(filtered_arr)"
   ]
  },
  {
   "cell_type": "markdown",
   "id": "f52b1f54-742f-4990-8f5a-b4dae5aa3a56",
   "metadata": {},
   "source": [
    "<h3> 71. For the given NumPy array, check its byte order using the `dtype` attribute byteorder.\n",
    "<h3>arr = np.array([1, 2, 3])"
   ]
  },
  {
   "cell_type": "code",
   "execution_count": 57,
   "id": "3e3167ca-f64e-4784-8006-b759bb2fe781",
   "metadata": {},
   "outputs": [
    {
     "name": "stdout",
     "output_type": "stream",
     "text": [
      "Byte order of the array: =\n"
     ]
    }
   ],
   "source": [
    "import numpy as np\n",
    "\n",
    "# Create a NumPy array with default dtype\n",
    "arr = np.array([1, 2, 3])\n",
    "\n",
    "# Check the byte order of the array\n",
    "byteorder = arr.dtype.byteorder\n",
    "\n",
    "# Print the byte order\n",
    "print(\"Byte order of the array:\", byteorder)"
   ]
  },
  {
   "cell_type": "markdown",
   "id": "4e18bf80-133e-4d4a-8619-8b5c6313b0bc",
   "metadata": {},
   "source": [
    "<h3> 72. For the given NumPy array, perform byte swapping in place using `byteswap()`.\n",
    "    <h3> arr = np.array([1, 2, 3], dtype=np.int32)"
   ]
  },
  {
   "cell_type": "code",
   "execution_count": 56,
   "id": "ea150fee-1854-40d9-a8c5-e1230979fc4e",
   "metadata": {},
   "outputs": [
    {
     "name": "stdout",
     "output_type": "stream",
     "text": [
      "Original array:\n",
      "[1 2 3]\n",
      "\n",
      "Array after byte swapping:\n",
      "[16777216 33554432 50331648]\n"
     ]
    }
   ],
   "source": [
    "import numpy as np\n",
    "\n",
    "# Create a NumPy array with dtype np.int32\n",
    "arr = np.array([1, 2, 3], dtype=np.int32)\n",
    "\n",
    "# Print the original array\n",
    "print(\"Original array:\")\n",
    "print(arr)\n",
    "\n",
    "# Perform byte swapping in place\n",
    "arr.byteswap(inplace=True)\n",
    "\n",
    "# Print the array after byte swapping\n",
    "print(\"\\nArray after byte swapping:\")\n",
    "print(arr)\n"
   ]
  },
  {
   "cell_type": "markdown",
   "id": "907b763a-1622-48e5-8292-797c977c276a",
   "metadata": {},
   "source": [
    "<h3> 73. For the given NumPy array, swap its byte order without modifying the original array using `newbyteorder()`.\n",
    "<h3> arr = np.array([1, 2, 3], dtype=np.int32)"
   ]
  },
  {
   "cell_type": "code",
   "execution_count": 55,
   "id": "756c3461-5c0e-4326-a5ff-e4ad34cae4cc",
   "metadata": {},
   "outputs": [
    {
     "name": "stdout",
     "output_type": "stream",
     "text": [
      "[1 2 3]\n",
      "Original array:\n",
      "[1 2 3]\n",
      "\n",
      "Byte-swapped array:\n",
      "[1 2 3]\n"
     ]
    }
   ],
   "source": [
    "# used chatgpt to solve this question\n",
    "\n",
    "import numpy as np\n",
    "\n",
    "# Create a NumPy array with dtype np.int32\n",
    "arr = np.array([1, 2, 3], dtype=np.int32)\n",
    "\n",
    "# Swap the byte order of the array without modifying the original array\n",
    "swapped_arr = arr.byteswap().newbyteorder()\n",
    "\n",
    "# Display the original array and the byte-swapped array\n",
    "print(\"Original array:\")\n",
    "print(arr)\n",
    "\n",
    "print(\"\\nByte-swapped array:\")\n",
    "print(swapped_arr)"
   ]
  },
  {
   "cell_type": "markdown",
   "id": "8518719f-5049-4014-8ab7-ed648fc8fddf",
   "metadata": {},
   "source": [
    "<h3>74. For the given NumPy array and swap its byte order conditionally based on system endianness using `newbyteorder()`."
   ]
  },
  {
   "cell_type": "code",
   "execution_count": 53,
   "id": "8df0b762-0647-46d8-99be-b22fcae96f63",
   "metadata": {},
   "outputs": [
    {
     "name": "stdout",
     "output_type": "stream",
     "text": [
      "System endianness: little\n",
      "\n",
      "Original array:\n",
      "[1 2 3]\n",
      "\n",
      "Conditionally byte-swapped array:\n",
      "[1 2 3]\n"
     ]
    }
   ],
   "source": [
    "# used chatgpt to solve this question\n",
    "import numpy as np\n",
    "import sys\n",
    "\n",
    "# Create a NumPy array with dtype np.int32\n",
    "arr = np.array([1, 2, 3], dtype=np.int32)\n",
    "\n",
    "# Get the byte order of the system\n",
    "system_endianness = '<' if sys.byteorder == 'little' else '>'\n",
    "\n",
    "# Print the system endianness\n",
    "print(\"System endianness:\", sys.byteorder)\n",
    "\n",
    "# Get the byte order of the array\n",
    "array_byteorder = arr.dtype.byteorder\n",
    "\n",
    "# Determine the desired byte order for swapping\n",
    "if array_byteorder == '=':\n",
    "    # The array is in native byte order\n",
    "    if sys.byteorder == 'little':\n",
    "        desired_byteorder = '>'\n",
    "    else:\n",
    "        desired_byteorder = '<'\n",
    "elif array_byteorder == '<':\n",
    "    # The array is in little-endian byte order\n",
    "    desired_byteorder = '>'\n",
    "elif array_byteorder == '>':\n",
    "    # The array is in big-endian byte order\n",
    "    desired_byteorder = '<'\n",
    "else:\n",
    "    # Unknown byte order, handle as needed\n",
    "    desired_byteorder = '='\n",
    "\n",
    "# Swap the byte order if necessary\n",
    "if desired_byteorder != '=':\n",
    "    swapped_arr = arr.byteswap().newbyteorder(desired_byteorder)\n",
    "else:\n",
    "    swapped_arr = arr\n",
    "\n",
    "# Display the original array and the conditionally byte-swapped array\n",
    "print(\"\\nOriginal array:\")\n",
    "print(arr)\n",
    "\n",
    "print(\"\\nConditionally byte-swapped array:\")\n",
    "print(swapped_arr)\n"
   ]
  },
  {
   "cell_type": "markdown",
   "id": "80495411-a844-4891-a929-e0c38681b6d1",
   "metadata": {},
   "source": [
    "<h3> 75. For the given NumPy array, check if byte swapping is necessary for the current system using `dtype` attribute `byteorder`.\n",
    "    arr = np.array([1, 2, 3], dtype=np.int32)\n"
   ]
  },
  {
   "cell_type": "code",
   "execution_count": 52,
   "id": "d6ffd170-e251-4e0c-9880-a0aa12945add",
   "metadata": {},
   "outputs": [
    {
     "name": "stdout",
     "output_type": "stream",
     "text": [
      "Byte order of the array: =\n",
      "The array is in the native byte order.\n",
      "\n",
      "Original array:\n",
      "[1 2 3]\n",
      "Byte-swapped array:\n",
      "[1 2 3]\n"
     ]
    }
   ],
   "source": [
    "# used chatgpt to solve this question\n",
    "import numpy as np\n",
    "\n",
    "# Create a NumPy array with dtype np.int32\n",
    "arr = np.array([1, 2, 3], dtype=np.int32)\n",
    "\n",
    "# Check the byte order of the array\n",
    "byteorder = arr.dtype.byteorder\n",
    "\n",
    "# Print the byte order\n",
    "print(\"Byte order of the array:\", byteorder)\n",
    "\n",
    "# Check if byte swapping is necessary\n",
    "if byteorder == '=':\n",
    "    print(\"The array is in the native byte order.\")\n",
    "elif byteorder == '<':\n",
    "    print(\"The array is in little-endian byte order.\")\n",
    "elif byteorder == '>':\n",
    "    print(\"The array is in big-endian byte order.\")\n",
    "else:\n",
    "    print(\"The byte order is unknown.\")\n",
    "\n",
    "# Optionally, check and display the byte-swapped version of the array\n",
    "swapped_arr = arr.byteswap().newbyteorder()\n",
    "print(\"\\nOriginal array:\")\n",
    "print(arr)\n",
    "print(\"Byte-swapped array:\")\n",
    "print(swapped_arr)"
   ]
  },
  {
   "cell_type": "markdown",
   "id": "bfa0a10a-5f07-4e47-9765-b972e6db1b22",
   "metadata": {},
   "source": [
    "<h3> 76. Create a NumPy array `arr1` with values from 1 to 10. Create a copy of `arr1` named `copy_arr` and modify an element in `copy_arr`. Check if modifying `copy_arr` affects `arr1`."
   ]
  },
  {
   "cell_type": "code",
   "execution_count": 50,
   "id": "9d41ffee-830d-4158-8e51-6f26a8a909c2",
   "metadata": {},
   "outputs": [
    {
     "name": "stdout",
     "output_type": "stream",
     "text": [
      "\n",
      "Original 'arr1':\n",
      "[ 1  2  3  4  5  6  7  8  9 10]\n",
      "\n",
      "Copy of 'arr1':\n",
      "[ 1  2  3  4  5  6  7  8  9 10]\n",
      "\n",
      "Modified 'copy_arr':\n",
      "[99  2  3  4  5  6  7  8  9 10]\n",
      "\n",
      "Original 'arr1' after modifying 'copy_arr':\n",
      "[ 1  2  3  4  5  6  7  8  9 10]\n"
     ]
    }
   ],
   "source": [
    "import numpy as np\n",
    "\n",
    "# Create a NumPy array 'arr1' with values from 1 to 10\n",
    "arr1 = np.arange(1, 11)\n",
    "print(\"\\nOriginal 'arr1':\")\n",
    "print(arr1)\n",
    "\n",
    "# Create a copy of 'arr1' named 'copy_arr'\n",
    "copy_arr = arr1.copy()\n",
    "print(\"\\nCopy of 'arr1':\")\n",
    "print(copy_arr)\n",
    "\n",
    "# Modify an element in 'copy_arr'\n",
    "copy_arr[0] = 99  # Change the first element to 99\n",
    "print(\"\\nModified 'copy_arr':\")\n",
    "print(copy_arr)\n",
    "\n",
    "# Display the original array and the modified copy\n",
    "print(\"\\nOriginal 'arr1' after modifying 'copy_arr':\")\n",
    "print(arr1)"
   ]
  },
  {
   "cell_type": "markdown",
   "id": "73789d73-c0ac-48c6-b466-b19a52f2e327",
   "metadata": {},
   "source": [
    "<h3> 77. Create a 2D NumPy array `matrix` of shape (3, 3) with random integers. Extract a slice `view_slice` from the matrix. Modify an element in `view_slice` and observe if it changes the original `matrix`."
   ]
  },
  {
   "cell_type": "code",
   "execution_count": 47,
   "id": "7faf1cb3-052c-4c01-b47d-d387ab204389",
   "metadata": {},
   "outputs": [
    {
     "name": "stdout",
     "output_type": "stream",
     "text": [
      "\n",
      "Original Matrix\n",
      "[[4 2 9]\n",
      " [4 5 9]\n",
      " [3 4 4]]\n",
      "\n",
      "Sliced 'view_slice' from 'matrix'\n",
      "[[5 9]\n",
      " [4 4]]\n",
      "\n",
      "Modified 'view_slice':\n",
      "[[99  9]\n",
      " [ 4  4]]\n",
      "\n",
      "Original 'matrix' after modifying 'view_slice':\n",
      "[[ 4  2  9]\n",
      " [ 4 99  9]\n",
      " [ 3  4  4]]\n"
     ]
    }
   ],
   "source": [
    "import numpy as np\n",
    "\n",
    "# Create a 2D NumPy array 'matrix' of shape (3, 3) with random integers\n",
    "matrix = np.random.randint(1, 10, size=(3, 3))\n",
    "print(\"\\nOriginal Matrix\")\n",
    "print(matrix)\n",
    "\n",
    "# Extract a slice 'view_slice' from 'matrix'\n",
    "view_slice = matrix[1:, 1:]  # Extracting a sub-array from the original matrix\n",
    "print(\"\\nSliced 'view_slice' from 'matrix'\")\n",
    "print(view_slice)\n",
    "\n",
    "# Modify an element in 'view_slice'\n",
    "view_slice[0, 0] = 99  # Change the top-left element of the slice\n",
    "print(\"\\nModified 'view_slice':\")\n",
    "print(view_slice)\n",
    "\n",
    "# Display the original matrix and the modified slice\n",
    "print(\"\\nOriginal 'matrix' after modifying 'view_slice':\")\n",
    "print(matrix)"
   ]
  },
  {
   "cell_type": "markdown",
   "id": "5fd9d336-a6ed-4b71-ad7c-4b8a730463fa",
   "metadata": {},
   "source": [
    "<h3> 78. Create a NumPy array `array_a` of shape (4, 3) with sequential integers from 1 to 12. Extract a slice `view_b` from `array_a` and broadcast the addition of 5 to view_b. Check if it alters the original `array_a`."
   ]
  },
  {
   "cell_type": "code",
   "execution_count": 37,
   "id": "baa89426-8f05-4c23-a7cd-2e218b0b7305",
   "metadata": {},
   "outputs": [
    {
     "name": "stdout",
     "output_type": "stream",
     "text": [
      "\n",
      "Original array_a\n",
      "[[ 1  2  3]\n",
      " [ 4  5  6]\n",
      " [ 7  8  9]\n",
      " [10 11 12]]\n",
      "\n",
      "slice 'view_b' from 'array_a'\n",
      "[[5 6]\n",
      " [8 9]]\n",
      "\n",
      "Modified slice 'view_b':\n",
      "[[10 11]\n",
      " [13 14]]\n",
      "\n",
      "Original 'array_a' after modifying 'view_b':\n",
      "[[ 1  2  3]\n",
      " [ 4 10 11]\n",
      " [ 7 13 14]\n",
      " [10 11 12]]\n"
     ]
    }
   ],
   "source": [
    "import numpy as np\n",
    "\n",
    "# Create a NumPy array 'array_a' of shape (4, 3) with sequential integers from 1 to 12\n",
    "array_a = np.arange(1, 13).reshape(4, 3)\n",
    "print(\"\\nOriginal array_a\")\n",
    "print(array_a)\n",
    "\n",
    "# Extract a slice 'view_b' from 'array_a'\n",
    "view_b = array_a[1:3, 1:3]  # This slice is a view of the original array\n",
    "print(\"\\nslice 'view_b' from 'array_a'\")\n",
    "print(view_b)\n",
    "\n",
    "# Broadcast the addition of 5 to sliced 'view_b'\n",
    "view_b += 5\n",
    "print(\"\\nModified slice 'view_b':\")\n",
    "print(view_b)\n",
    "\n",
    "# Display the original array and the modified slice\n",
    "print(\"\\nOriginal 'array_a' after modifying 'view_b':\")\n",
    "print(array_a)"
   ]
  },
  {
   "cell_type": "markdown",
   "id": "2f564ae0-747c-4091-8d08-31fff49eeeae",
   "metadata": {},
   "source": [
    "<h3>79. Create a NumPy array `orig_array` of shape (2, 4) with values from 1 to 8. Create a reshaped view `reshaped_view` of shape (4, 2) from orig_array. Modify an element in `reshaped_view` and check if it reflects changes in the original `orig_array`."
   ]
  },
  {
   "cell_type": "code",
   "execution_count": 39,
   "id": "981590b0-d787-4806-9589-0e4d453bde88",
   "metadata": {},
   "outputs": [
    {
     "name": "stdout",
     "output_type": "stream",
     "text": [
      "\n",
      "Original Array of shape (2,4)\n",
      "[[1 2 3 4]\n",
      " [5 6 7 8]]\n",
      "\n",
      "Reshaped View of Array of shape (4,2)\n",
      "[[1 2]\n",
      " [3 4]\n",
      " [5 6]\n",
      " [7 8]]\n",
      "\n",
      "Change in 'reshaped_view':\n",
      "[[99  2]\n",
      " [ 3  4]\n",
      " [ 5  6]\n",
      " [ 7  8]]\n",
      "\n",
      "Original 'orig_array' after modifying 'reshaped_view':\n",
      "[[99  2  3  4]\n",
      " [ 5  6  7  8]]\n",
      "\n",
      " Yes, change in reshaped_view reflects in orig_array.\n"
     ]
    }
   ],
   "source": [
    "import numpy as np\n",
    "\n",
    "# Create a NumPy array 'orig_array' of shape (2, 4) with values from 1 to 8\n",
    "orig_array = np.arange(1, 9).reshape(2, 4)\n",
    "print(\"\\nOriginal Array of shape (2,4)\")\n",
    "print(orig_array)\n",
    "\n",
    "# Create a reshaped view of 'orig_array' with shape (4, 2)\n",
    "reshaped_view = orig_array.reshape(4, 2)\n",
    "print(\"\\nReshaped View of Array of shape (4,2)\")\n",
    "print(reshaped_view)\n",
    "\n",
    "# Modify an element in 'reshaped_view'\n",
    "reshaped_view[0, 0] = 99  # Change the first element to 99\n",
    "print(\"\\nChange in 'reshaped_view':\")\n",
    "print(reshaped_view)\n",
    "\n",
    "# Display the original array and the reshaped view\n",
    "print(\"\\nOriginal 'orig_array' after modifying 'reshaped_view':\")\n",
    "print(orig_array)\n",
    "print(\"\\n Yes, change in reshaped_view reflects in orig_array.\") "
   ]
  },
  {
   "cell_type": "markdown",
   "id": "cd751082-1295-4f46-b1fc-6b92c0055ab5",
   "metadata": {},
   "source": [
    "<h3> 80. Create a NumPy array `data` of shape (3, 4) with random integers. Extract a copy `data_copy` of elements greater than 5. Modify an element in `data_copy` and verify if it affects the original `data`."
   ]
  },
  {
   "cell_type": "code",
   "execution_count": 24,
   "id": "e56a9b67-dcf0-4106-9535-2a426fab6653",
   "metadata": {},
   "outputs": [
    {
     "name": "stdout",
     "output_type": "stream",
     "text": [
      "Original 'data' array:\n",
      "[[10  3 10  8]\n",
      " [ 3 10 10  7]\n",
      " [ 9  9 10 10]]\n",
      "\n",
      "Modified 'data_copy' array:\n",
      "[99 10  8 10 10  7  9  9 10 10]\n",
      "\n",
      "Check if original 'data' is affected:\n",
      "[[10  3 10  8]\n",
      " [ 3 10 10  7]\n",
      " [ 9  9 10 10]]\n"
     ]
    }
   ],
   "source": [
    "import numpy as np\n",
    "\n",
    "# Create a NumPy array 'data' of shape (3, 4) with random integers between 1 and 10\n",
    "data = np.random.randint(1, 11, size=(3, 4))\n",
    "\n",
    "# Extract a copy of elements greater than 5\n",
    "data_copy = data[data > 5].copy()\n",
    "\n",
    "# Modify an element in 'data_copy'\n",
    "if data_copy.size > 0:\n",
    "    data_copy[0] = 99  # Change the first element to 99\n",
    "\n",
    "# Display the original 'data' array\n",
    "print(\"Original 'data' array:\")\n",
    "print(data)\n",
    "\n",
    "# Display the modified 'data_copy' array\n",
    "print(\"\\nModified 'data_copy' array:\")\n",
    "print(data_copy)\n",
    "\n",
    "# Verify if the original 'data' is affected\n",
    "print(\"\\nCheck if original 'data' is affected:\")\n",
    "print(data)"
   ]
  },
  {
   "cell_type": "markdown",
   "id": "0786aa13-01aa-4542-abc6-360d894ab1e5",
   "metadata": {},
   "source": [
    "<h3> 81. Create two matrices A and B of identical shape containing integers and perform addition and subtraction operations between them."
   ]
  },
  {
   "cell_type": "code",
   "execution_count": null,
   "id": "c7e9baf6-cca2-45cb-9fd2-db7fdd29f4d1",
   "metadata": {},
   "outputs": [],
   "source": [
    "import numpy as np\n",
    "\n",
    "# Create two matrices A and B of identical shape\n",
    "A = np.array([[1, 2, 3],\n",
    "              [4, 5, 6],\n",
    "              [7, 8, 9]])\n",
    "\n",
    "B = np.array([[9, 8, 7],\n",
    "              [6, 5, 4],\n",
    "              [3, 2, 1]])\n",
    "\n",
    "# Perform addition of matrices A and B\n",
    "C_add = A + B\n",
    "\n",
    "# Perform subtraction of matrices A and B\n",
    "C_sub = A - B\n",
    "\n",
    "# Display the matrices and their results\n",
    "print(\"Matrix A:\")\n",
    "print(A)\n",
    "\n",
    "print(\"\\nMatrix B:\")\n",
    "print(B)\n",
    "\n",
    "print(\"\\nA + B (Addition):\")\n",
    "print(C_add)\n",
    "\n",
    "print(\"\\nA - B (Subtraction):\")\n",
    "print(C_sub)"
   ]
  },
  {
   "cell_type": "markdown",
   "id": "99bdc46f-84eb-4bfa-be25-61b8e229b564",
   "metadata": {},
   "source": [
    "<h3> 82. Generate two matrices `C` (3x2) and `D` (2x4) and perform matrix multiplication."
   ]
  },
  {
   "cell_type": "code",
   "execution_count": 22,
   "id": "bfddcfda-a724-408a-8e04-9bf1e43341b8",
   "metadata": {},
   "outputs": [
    {
     "name": "stdout",
     "output_type": "stream",
     "text": [
      "Matrix C :\n",
      "[[1 2]\n",
      " [2 3]\n",
      " [4 5]]\n",
      "\n",
      "Matrix D :\n",
      "[[4 5 1]\n",
      " [6 7 2]]\n",
      "\n",
      "The matrix multiplication is :\n",
      "[[16 19  5]\n",
      " [26 31  8]\n",
      " [46 55 14]]\n"
     ]
    }
   ],
   "source": [
    "# importing the module \n",
    "import numpy as np \n",
    "\n",
    "# creating two matrices \n",
    "C = np.matrix([[1, 2], [2, 3], [4, 5]])\n",
    "D = np.matrix([[4, 5, 1], [6, 7, 2]])\n",
    "print(\"Matrix C :\") \n",
    "print(C) \n",
    "print(\"\\nMatrix D :\") \n",
    "print(D) \n",
    "\n",
    "# computing product \n",
    "result = np.dot(C, D) \n",
    "\n",
    "# printing the result \n",
    "print(\"\\nThe matrix multiplication is :\") \n",
    "print(result)"
   ]
  },
  {
   "cell_type": "markdown",
   "id": "00d7e262-281a-4a20-a146-2e7ddde14596",
   "metadata": {},
   "source": [
    "<h3> 83. Create a matrix `E` and find its transpose."
   ]
  },
  {
   "cell_type": "code",
   "execution_count": 19,
   "id": "1b52f2be-c865-4657-aee7-c11d98502d7d",
   "metadata": {},
   "outputs": [
    {
     "name": "stdout",
     "output_type": "stream",
     "text": [
      "\n",
      "E = \n",
      "[[ 4  1  9]\n",
      " [12  3  1]\n",
      " [ 4  5  6]]\n",
      "\n",
      "Transpose of given 3X3 square matrix:\n",
      "[[ 4 12  4]\n",
      " [ 1  3  5]\n",
      " [ 9  1  6]]\n"
     ]
    }
   ],
   "source": [
    "# import the important module in python \n",
    "import numpy as np \n",
    "\t\t\t\n",
    "# make matrix with numpy \n",
    "E = np.matrix('[4, 1, 9; 12, 3, 1; 4, 5, 6]') \n",
    "\n",
    "# Displaying the Matrix \n",
    "print(\"\\nE = \") \n",
    "print(E)\n",
    "\n",
    "# applying matrix.transpose() method \n",
    "trans = E.transpose() \n",
    "\n",
    "print(\"\\nTranspose of given 3X3 square matrix:\") \n",
    "print(trans)"
   ]
  },
  {
   "cell_type": "markdown",
   "id": "4012d041-f447-48d5-be51-c916c4de199b",
   "metadata": {},
   "source": [
    "<h3> 84. Generate a square matrix `F` and compute its determinant."
   ]
  },
  {
   "cell_type": "code",
   "execution_count": 13,
   "id": "a1dbff86-6e36-4c52-bda7-36895e7057d6",
   "metadata": {},
   "outputs": [
    {
     "name": "stdout",
     "output_type": "stream",
     "text": [
      "F = \n",
      "[[56 75 35]\n",
      " [70 34 20]\n",
      " [19 47 71]]\n",
      "\n",
      "Determinant of given 3X3 square matrix:\n",
      "-169166\n"
     ]
    }
   ],
   "source": [
    "# importing Numpy package \n",
    "import numpy as np \n",
    "\n",
    "# creating a 3X3 Numpy matrix \n",
    "F = np.array([[56, 75, 35], \n",
    "\t\t\t\t\t[70, 34, 20], \n",
    "\t\t\t\t\t[19, 47, 71]]) \n",
    "\n",
    "# Displaying the Matrix \n",
    "print(\"F = \") \n",
    "print(F) \n",
    "\n",
    "# calculating the determinant of matrix \n",
    "det = np.linalg.det(F) \n",
    "\n",
    "print(\"\\nDeterminant of given 3X3 square matrix:\") \n",
    "print(int(det))"
   ]
  },
  {
   "cell_type": "markdown",
   "id": "f5ddb417-41b5-4627-a910-c82edce97305",
   "metadata": {},
   "source": [
    "<h3> 85. Create a square matrix `G` and find its inverse."
   ]
  },
  {
   "cell_type": "code",
   "execution_count": 16,
   "id": "8eb5dbad-1084-4739-8aa8-dc1c1a9a2917",
   "metadata": {},
   "outputs": [
    {
     "name": "stdout",
     "output_type": "stream",
     "text": [
      "G = \n",
      "[[ 9  2  1]\n",
      " [ 4 -6  8]\n",
      " [ 1  8  7]]\n",
      "\n",
      "Inverse of given 3X3 square matrix:\n",
      "[[ 0.11087866  0.00627615 -0.02301255]\n",
      " [ 0.0209205  -0.06485356  0.07112971]\n",
      " [-0.03974895  0.07322176  0.06485356]]\n"
     ]
    }
   ],
   "source": [
    "# Import required package\n",
    "import numpy as np\n",
    "\n",
    "# Taking a 3 * 3 matrix\n",
    "G = np.array([[9, 2, 1],\n",
    "\t\t\t[4, -6, 8],\n",
    "\t\t\t[1, 8, 7]])\n",
    "# Displaying the Matrix \n",
    "print(\"G = \") \n",
    "print(G)\n",
    "\n",
    "# Calculating the inverse of the matrix\n",
    "inv = np.linalg.inv(G)\n",
    "\n",
    "print(\"\\nInverse of given 3X3 square matrix:\") \n",
    "print(inv)\n"
   ]
  }
 ],
 "metadata": {
  "kernelspec": {
   "display_name": "Python 3 (ipykernel)",
   "language": "python",
   "name": "python3"
  },
  "language_info": {
   "codemirror_mode": {
    "name": "ipython",
    "version": 3
   },
   "file_extension": ".py",
   "mimetype": "text/x-python",
   "name": "python",
   "nbconvert_exporter": "python",
   "pygments_lexer": "ipython3",
   "version": "3.10.8"
  },
  "widgets": {
   "application/vnd.jupyter.widget-state+json": {
    "state": {},
    "version_major": 2,
    "version_minor": 0
   }
  }
 },
 "nbformat": 4,
 "nbformat_minor": 5
}
